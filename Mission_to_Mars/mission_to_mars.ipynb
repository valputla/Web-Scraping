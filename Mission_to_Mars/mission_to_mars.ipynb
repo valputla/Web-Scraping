{
 "cells": [
  {
   "cell_type": "code",
   "execution_count": 60,
   "id": "1c5313ef",
   "metadata": {},
   "outputs": [],
   "source": [
    "from splinter import Browser\n",
    "from bs4 import BeautifulSoup\n",
    "from webdriver_manager.chrome import ChromeDriverManager\n",
    "import requests\n",
    "import pymongo\n",
    "import pandas as pd\n",
    "import time"
   ]
  },
  {
   "cell_type": "code",
   "execution_count": 61,
   "id": "5a369bb1",
   "metadata": {},
   "outputs": [],
   "source": [
    "url = \"https://redplanetscience.com/\""
   ]
  },
  {
   "cell_type": "code",
   "execution_count": 62,
   "id": "072e9c9d",
   "metadata": {},
   "outputs": [
    {
     "name": "stderr",
     "output_type": "stream",
     "text": [
      "\n",
      "\n",
      "====== WebDriver manager ======\n",
      "Current google-chrome version is 102.0.5005\n",
      "Get LATEST chromedriver version for 102.0.5005 google-chrome\n",
      "Driver [/Users/lindseyvalput/.wdm/drivers/chromedriver/mac64/102.0.5005.61/chromedriver] found in cache\n"
     ]
    }
   ],
   "source": [
    "executable_path = {'executable_path': ChromeDriverManager().install()}\n",
    "browser = Browser('chrome', **executable_path, headless=False)"
   ]
  },
  {
   "cell_type": "code",
   "execution_count": 63,
   "id": "6d7aeb5e",
   "metadata": {},
   "outputs": [],
   "source": [
    "\n",
    "mars_webpage = browser.visit(url)"
   ]
  },
  {
   "cell_type": "code",
   "execution_count": 64,
   "id": "93e53f57",
   "metadata": {},
   "outputs": [],
   "source": [
    "html = browser.html\n",
    "soup = BeautifulSoup(html, 'html.parser')\n",
    "# print(soup.prettify())"
   ]
  },
  {
   "cell_type": "code",
   "execution_count": 65,
   "id": "81f5b44d",
   "metadata": {},
   "outputs": [],
   "source": [
    "news_title = soup.find('div', class_='content_title').text\n",
    "news_p = soup.find('div', class_='article_teaser_body').text"
   ]
  },
  {
   "cell_type": "code",
   "execution_count": 66,
   "id": "ba14e4bb",
   "metadata": {},
   "outputs": [],
   "source": [
    "#Alternative solution - loop through titles and paragraphs to see all. \n",
    "titles = soup.find_all('div', class_='content_title')\n",
    "paragraphs = soup.find_all('div', class_='article_teaser_body')"
   ]
  },
  {
   "cell_type": "code",
   "execution_count": 67,
   "id": "3f863378",
   "metadata": {
    "scrolled": true
   },
   "outputs": [
    {
     "name": "stdout",
     "output_type": "stream",
     "text": [
      "[\"How NASA's Mars Helicopter Will Reach the Red Planet's Surface\"]\n",
      "[\"NASA's Mars Perseverance Rover Passes Flight Readiness Review\"]\n",
      "[\"NASA's Mars 2020 Will Hunt for Microscopic Fossils\"]\n",
      "['Mars Is Getting a New Robotic Meteorologist']\n",
      "['NASA Establishes Board to Initially Review Mars Sample Return Plans']\n",
      "['NASA Perseverance Mars Rover Scientists Train in the Nevada Desert']\n",
      "[\"NASA's New Mars Rover Will Use X-Rays to Hunt Fossils\"]\n",
      "[\"3 Things We've Learned From NASA's Mars InSight \"]\n",
      "['NASA Prepares for Moon and Mars With New Addition to Its Deep Space Network']\n",
      "['Two Rovers to Roll on Mars Again: Curiosity and Mars 2020']\n",
      "['My Culture, My Voice']\n",
      "[\"The Detective Aboard NASA's Perseverance Rover\"]\n",
      "[\"8 Martian Postcards to Celebrate Curiosity's Landing Anniversary\"]\n",
      "[\"Celebrate Mars Reconnaissance Orbiter's Views From Above\"]\n",
      "['Two of a Space Kind: Apollo 12 and Mars 2020']\n"
     ]
    }
   ],
   "source": [
    "for news_title in titles:\n",
    "    print([news_title.text])"
   ]
  },
  {
   "cell_type": "code",
   "execution_count": 68,
   "id": "75b8f9bf",
   "metadata": {},
   "outputs": [
    {
     "name": "stdout",
     "output_type": "stream",
     "text": [
      "['The small craft will seek to prove that powered, controlled flight is possible on another planet. But just getting it onto the surface of Mars will take a whole lot of ingenuity.']\n",
      "[\"\\u200bThe agency's Mars 2020 mission has one more big prelaunch review – the Launch Readiness Review, on July 27.\"]\n",
      "[\"A new paper identifies a ring of minerals at the rover's landing site that are ideal for fossilizing microbial life.\"]\n",
      "[\"Sensors on NASA's Perseverance will help prepare for future human exploration by taking weather measurements and studying dust particles.\"]\n",
      "['The board will assist with analysis of current plans and goals for one of the most difficult missions humanity has ever undertaken.']\n",
      "[\"Team members searched for signs of ancient microscopic life there, just as NASA's latest rover will on the Red Planet next year.\"]\n",
      "[\"PIXL, an instrument on the end of the Perseverance rover's arm, will search for chemical fingerprints left by ancient microbes.\"]\n",
      "['Scientists are finding new mysteries since the geophysics mission landed two years ago.']\n",
      "['Robotic spacecraft will be able to communicate with the dish using radio waves and lasers.']\n",
      "['They look like twins. But under the hood, the rover currently exploring the Red Planet and the one launching there this summer have distinct science tools and roles to play.']\n",
      "['In honor of Hispanic Heritage Month, Christina Hernandez, an instrument engineer on the Mars 2020 mission, talks about her childhood and journey to NASA.']\n",
      "['An instrument called SHERLOC will, with the help of its partner WATSON, hunt for signs of ancient life by detecting organic molecules and minerals.']\n",
      "['The NASA rover touched down eight years ago, on Aug. 5, 2012, and will soon be joined by a second rover, Perseverance.']\n",
      "['Marking its 15th anniversary since launch, one of the oldest spacecraft at the Red Planet has provided glimpses of dust devils, avalanches, and more.']\n",
      "['Apollo 12 and the upcoming Mars 2020 mission may be separated by half a century, but they share several goals unique in the annals of space exploration.']\n"
     ]
    }
   ],
   "source": [
    "for news_p in paragraphs:\n",
    "    print([news_p.text])"
   ]
  },
  {
   "cell_type": "code",
   "execution_count": 69,
   "id": "4daac9ac",
   "metadata": {},
   "outputs": [
    {
     "name": "stdout",
     "output_type": "stream",
     "text": [
      "{\"Title: How NASA's Mars Helicopter Will Reach the Red Planet's Surface, Paragraph: The small craft will seek to prove that powered, controlled flight is possible on another planet. But just getting it onto the surface of Mars will take a whole lot of ingenuity.\"}\n",
      "{\"Title: NASA's Mars Perseverance Rover Passes Flight Readiness Review, Paragraph: \\u200bThe agency's Mars 2020 mission has one more big prelaunch review – the Launch Readiness Review, on July 27.\"}\n",
      "{\"Title: NASA's Mars 2020 Will Hunt for Microscopic Fossils, Paragraph: A new paper identifies a ring of minerals at the rover's landing site that are ideal for fossilizing microbial life.\"}\n",
      "{\"Title: Mars Is Getting a New Robotic Meteorologist, Paragraph: Sensors on NASA's Perseverance will help prepare for future human exploration by taking weather measurements and studying dust particles.\"}\n",
      "{'Title: NASA Establishes Board to Initially Review Mars Sample Return Plans, Paragraph: The board will assist with analysis of current plans and goals for one of the most difficult missions humanity has ever undertaken.'}\n",
      "{\"Title: NASA Perseverance Mars Rover Scientists Train in the Nevada Desert, Paragraph: Team members searched for signs of ancient microscopic life there, just as NASA's latest rover will on the Red Planet next year.\"}\n",
      "{\"Title: NASA's New Mars Rover Will Use X-Rays to Hunt Fossils, Paragraph: PIXL, an instrument on the end of the Perseverance rover's arm, will search for chemical fingerprints left by ancient microbes.\"}\n",
      "{\"Title: 3 Things We've Learned From NASA's Mars InSight , Paragraph: Scientists are finding new mysteries since the geophysics mission landed two years ago.\"}\n",
      "{'Title: NASA Prepares for Moon and Mars With New Addition to Its Deep Space Network, Paragraph: Robotic spacecraft will be able to communicate with the dish using radio waves and lasers.'}\n",
      "{'Title: Two Rovers to Roll on Mars Again: Curiosity and Mars 2020, Paragraph: They look like twins. But under the hood, the rover currently exploring the Red Planet and the one launching there this summer have distinct science tools and roles to play.'}\n",
      "{'Title: My Culture, My Voice, Paragraph: In honor of Hispanic Heritage Month, Christina Hernandez, an instrument engineer on the Mars 2020 mission, talks about her childhood and journey to NASA.'}\n",
      "{\"Title: The Detective Aboard NASA's Perseverance Rover, Paragraph: An instrument called SHERLOC will, with the help of its partner WATSON, hunt for signs of ancient life by detecting organic molecules and minerals.\"}\n",
      "{\"Title: 8 Martian Postcards to Celebrate Curiosity's Landing Anniversary, Paragraph: The NASA rover touched down eight years ago, on Aug. 5, 2012, and will soon be joined by a second rover, Perseverance.\"}\n",
      "{\"Title: Celebrate Mars Reconnaissance Orbiter's Views From Above, Paragraph: Marking its 15th anniversary since launch, one of the oldest spacecraft at the Red Planet has provided glimpses of dust devils, avalanches, and more.\"}\n",
      "{'Title: Two of a Space Kind: Apollo 12 and Mars 2020, Paragraph: Apollo 12 and the upcoming Mars 2020 mission may be separated by half a century, but they share several goals unique in the annals of space exploration.'}\n"
     ]
    }
   ],
   "source": [
    "titles_para = zip(titles, paragraphs)\n",
    "for x, y in titles_para:\n",
    "    print({f\"Title: {x.text}, Paragraph: {y.text}\"})"
   ]
  },
  {
   "cell_type": "code",
   "execution_count": 70,
   "id": "8a60a92e",
   "metadata": {},
   "outputs": [],
   "source": [
    "browser.quit()"
   ]
  },
  {
   "cell_type": "code",
   "execution_count": 36,
   "id": "bf92ad32",
   "metadata": {},
   "outputs": [],
   "source": [
    "space_image_url = \"https://spaceimages-mars.com/\""
   ]
  },
  {
   "cell_type": "code",
   "execution_count": 37,
   "id": "fd713670",
   "metadata": {},
   "outputs": [
    {
     "name": "stderr",
     "output_type": "stream",
     "text": [
      "\n",
      "\n",
      "====== WebDriver manager ======\n",
      "Current google-chrome version is 102.0.5005\n",
      "Get LATEST chromedriver version for 102.0.5005 google-chrome\n",
      "Driver [/Users/lindseyvalput/.wdm/drivers/chromedriver/mac64/102.0.5005.61/chromedriver] found in cache\n"
     ]
    }
   ],
   "source": [
    "executable_path = {'executable_path': ChromeDriverManager().install()}\n",
    "browser = Browser('chrome', **executable_path, headless=False)"
   ]
  },
  {
   "cell_type": "code",
   "execution_count": 38,
   "id": "30971515",
   "metadata": {},
   "outputs": [],
   "source": [
    "space_image_webpage = browser.visit(space_image_url)"
   ]
  },
  {
   "cell_type": "code",
   "execution_count": 39,
   "id": "3d6d7359",
   "metadata": {},
   "outputs": [],
   "source": [
    "html = browser.html\n",
    "soup = BeautifulSoup(html, 'html.parser')\n",
    "# print(soup.prettify())"
   ]
  },
  {
   "cell_type": "code",
   "execution_count": 40,
   "id": "ad80045a",
   "metadata": {},
   "outputs": [
    {
     "data": {
      "text/plain": [
       "<div class=\"floating_text_area\">\n",
       "<h2 class=\"brand_title\">FEATURED IMAGE</h2>\n",
       "<h1 class=\"media_feature_title\">Dusty Space Cloud</h1>\n",
       "<br/>\n",
       "<a class=\"showimg fancybox-thumbs\" href=\"image/featured/mars1.jpg\" target=\"_blank\"> <button class=\"btn btn-outline-light\"> FULL IMAGE</button></a>\n",
       "</div>"
      ]
     },
     "execution_count": 40,
     "metadata": {},
     "output_type": "execute_result"
    }
   ],
   "source": [
    "img_result = soup.find('div', class_='floating_text_area')\n",
    "\n",
    "img_result"
   ]
  },
  {
   "cell_type": "code",
   "execution_count": 41,
   "id": "7876caf8",
   "metadata": {},
   "outputs": [
    {
     "name": "stdout",
     "output_type": "stream",
     "text": [
      "['https://spaceimages-mars.com/image/featured/mars1.jpg']\n"
     ]
    }
   ],
   "source": [
    "img_url = img_result.find('a')['href']\n",
    "img_complete_url = [space_image_url + img_url]\n",
    "print(img_complete_url)"
   ]
  },
  {
   "cell_type": "code",
   "execution_count": 42,
   "id": "22061850",
   "metadata": {},
   "outputs": [],
   "source": [
    "browser.quit()"
   ]
  },
  {
   "cell_type": "code",
   "execution_count": 43,
   "id": "a0d2fed2",
   "metadata": {},
   "outputs": [],
   "source": [
    "mars_table_url = \"https://galaxyfacts-mars.com/\""
   ]
  },
  {
   "cell_type": "code",
   "execution_count": 44,
   "id": "6dc57363",
   "metadata": {},
   "outputs": [
    {
     "name": "stderr",
     "output_type": "stream",
     "text": [
      "\n",
      "\n",
      "====== WebDriver manager ======\n",
      "Current google-chrome version is 102.0.5005\n",
      "Get LATEST chromedriver version for 102.0.5005 google-chrome\n",
      "Driver [/Users/lindseyvalput/.wdm/drivers/chromedriver/mac64/102.0.5005.61/chromedriver] found in cache\n"
     ]
    }
   ],
   "source": [
    "executable_path = {'executable_path': ChromeDriverManager().install()}\n",
    "browser = Browser('chrome', **executable_path, headless=False)"
   ]
  },
  {
   "cell_type": "code",
   "execution_count": 45,
   "id": "0a6bbd3a",
   "metadata": {},
   "outputs": [],
   "source": [
    "mars_table_webpage = browser.visit(mars_table_url)"
   ]
  },
  {
   "cell_type": "code",
   "execution_count": 46,
   "id": "f9013761",
   "metadata": {},
   "outputs": [],
   "source": [
    "html = browser.html\n",
    "soup = BeautifulSoup(html, 'html.parser')\n",
    "# print(soup.prettify())"
   ]
  },
  {
   "cell_type": "code",
   "execution_count": 47,
   "id": "4197ff25",
   "metadata": {},
   "outputs": [],
   "source": [
    "table_html = soup.find('table', class_='table table-striped')\n",
    "# print(table_html)"
   ]
  },
  {
   "cell_type": "code",
   "execution_count": 48,
   "id": "91f732c5",
   "metadata": {},
   "outputs": [],
   "source": [
    "browser.quit()"
   ]
  },
  {
   "cell_type": "code",
   "execution_count": 49,
   "id": "a3ce0971",
   "metadata": {},
   "outputs": [],
   "source": [
    "table = pd.read_html(\"https://galaxyfacts-mars.com/\")"
   ]
  },
  {
   "cell_type": "code",
   "execution_count": 50,
   "id": "ea9e3e14",
   "metadata": {
    "scrolled": true
   },
   "outputs": [
    {
     "data": {
      "text/plain": [
       "[                         0                1                2\n",
       " 0  Mars - Earth Comparison             Mars            Earth\n",
       " 1                Diameter:         6,779 km        12,742 km\n",
       " 2                    Mass:  6.39 × 10^23 kg  5.97 × 10^24 kg\n",
       " 3                   Moons:                2                1\n",
       " 4       Distance from Sun:   227,943,824 km   149,598,262 km\n",
       " 5          Length of Year:   687 Earth days      365.24 days\n",
       " 6             Temperature:     -87 to -5 °C      -88 to 58°C,\n",
       "                       0                              1\n",
       " 0  Equatorial Diameter:                       6,792 km\n",
       " 1       Polar Diameter:                       6,752 km\n",
       " 2                 Mass:  6.39 × 10^23 kg (0.11 Earths)\n",
       " 3                Moons:          2 ( Phobos & Deimos )\n",
       " 4       Orbit Distance:       227,943,824 km (1.38 AU)\n",
       " 5         Orbit Period:           687 days (1.9 years)\n",
       " 6  Surface Temperature:                   -87 to -5 °C\n",
       " 7         First Record:              2nd millennium BC\n",
       " 8          Recorded By:           Egyptian astronomers]"
      ]
     },
     "execution_count": 50,
     "metadata": {},
     "output_type": "execute_result"
    }
   ],
   "source": [
    "table"
   ]
  },
  {
   "cell_type": "code",
   "execution_count": 51,
   "id": "86f3d437",
   "metadata": {},
   "outputs": [
    {
     "data": {
      "text/html": [
       "<div>\n",
       "<style scoped>\n",
       "    .dataframe tbody tr th:only-of-type {\n",
       "        vertical-align: middle;\n",
       "    }\n",
       "\n",
       "    .dataframe tbody tr th {\n",
       "        vertical-align: top;\n",
       "    }\n",
       "\n",
       "    .dataframe thead th {\n",
       "        text-align: right;\n",
       "    }\n",
       "</style>\n",
       "<table border=\"1\" class=\"dataframe\">\n",
       "  <thead>\n",
       "    <tr style=\"text-align: right;\">\n",
       "      <th></th>\n",
       "      <th>Mars</th>\n",
       "      <th>Earth</th>\n",
       "    </tr>\n",
       "    <tr>\n",
       "      <th>Mars-Earth Comparison</th>\n",
       "      <th></th>\n",
       "      <th></th>\n",
       "    </tr>\n",
       "  </thead>\n",
       "  <tbody>\n",
       "    <tr>\n",
       "      <th>Mars - Earth Comparison</th>\n",
       "      <td>Mars</td>\n",
       "      <td>Earth</td>\n",
       "    </tr>\n",
       "    <tr>\n",
       "      <th>Diameter:</th>\n",
       "      <td>6,779 km</td>\n",
       "      <td>12,742 km</td>\n",
       "    </tr>\n",
       "    <tr>\n",
       "      <th>Mass:</th>\n",
       "      <td>6.39 × 10^23 kg</td>\n",
       "      <td>5.97 × 10^24 kg</td>\n",
       "    </tr>\n",
       "    <tr>\n",
       "      <th>Moons:</th>\n",
       "      <td>2</td>\n",
       "      <td>1</td>\n",
       "    </tr>\n",
       "    <tr>\n",
       "      <th>Distance from Sun:</th>\n",
       "      <td>227,943,824 km</td>\n",
       "      <td>149,598,262 km</td>\n",
       "    </tr>\n",
       "    <tr>\n",
       "      <th>Length of Year:</th>\n",
       "      <td>687 Earth days</td>\n",
       "      <td>365.24 days</td>\n",
       "    </tr>\n",
       "    <tr>\n",
       "      <th>Temperature:</th>\n",
       "      <td>-87 to -5 °C</td>\n",
       "      <td>-88 to 58°C</td>\n",
       "    </tr>\n",
       "  </tbody>\n",
       "</table>\n",
       "</div>"
      ],
      "text/plain": [
       "                                    Mars            Earth\n",
       "Mars-Earth Comparison                                    \n",
       "Mars - Earth Comparison             Mars            Earth\n",
       "Diameter:                       6,779 km        12,742 km\n",
       "Mass:                    6.39 × 10^23 kg  5.97 × 10^24 kg\n",
       "Moons:                                 2                1\n",
       "Distance from Sun:        227,943,824 km   149,598,262 km\n",
       "Length of Year:           687 Earth days      365.24 days\n",
       "Temperature:                -87 to -5 °C      -88 to 58°C"
      ]
     },
     "execution_count": 51,
     "metadata": {},
     "output_type": "execute_result"
    }
   ],
   "source": [
    "df = table[0]\n",
    "mars_table = df.rename(columns={0: 'Mars-Earth Comparison', 1:'Mars', 2: 'Earth'})\n",
    "mars_table.set_index('Mars-Earth Comparison')"
   ]
  },
  {
   "cell_type": "code",
   "execution_count": 52,
   "id": "3c20f309",
   "metadata": {},
   "outputs": [
    {
     "data": {
      "text/plain": [
       "'<table border=\"1\" class=\"dataframe table table-stripped\">  <thead>    <tr style=\"text-align: left;\">      <th></th>      <th>Mars-Earth Comparison</th>      <th>Mars</th>      <th>Earth</th>    </tr>  </thead>  <tbody>    <tr>      <th>0</th>      <td>Mars - Earth Comparison</td>      <td>Mars</td>      <td>Earth</td>    </tr>    <tr>      <th>1</th>      <td>Diameter:</td>      <td>6,779 km</td>      <td>12,742 km</td>    </tr>    <tr>      <th>2</th>      <td>Mass:</td>      <td>6.39 × 10^23 kg</td>      <td>5.97 × 10^24 kg</td>    </tr>    <tr>      <th>3</th>      <td>Moons:</td>      <td>2</td>      <td>1</td>    </tr>    <tr>      <th>4</th>      <td>Distance from Sun:</td>      <td>227,943,824 km</td>      <td>149,598,262 km</td>    </tr>    <tr>      <th>5</th>      <td>Length of Year:</td>      <td>687 Earth days</td>      <td>365.24 days</td>    </tr>    <tr>      <th>6</th>      <td>Temperature:</td>      <td>-87 to -5 °C</td>      <td>-88 to 58°C</td>    </tr>  </tbody></table>'"
      ]
     },
     "execution_count": 52,
     "metadata": {},
     "output_type": "execute_result"
    }
   ],
   "source": [
    "mars_table = mars_table.to_html(classes='table table-stripped', justify='left', border=1)\n",
    "mars_table = mars_table.replace('\\n', '')\n",
    "mars_table"
   ]
  },
  {
   "cell_type": "code",
   "execution_count": 53,
   "id": "beb84e68",
   "metadata": {},
   "outputs": [
    {
     "name": "stderr",
     "output_type": "stream",
     "text": [
      "\n",
      "\n",
      "====== WebDriver manager ======\n",
      "Current google-chrome version is 102.0.5005\n",
      "Get LATEST chromedriver version for 102.0.5005 google-chrome\n",
      "Driver [/Users/lindseyvalput/.wdm/drivers/chromedriver/mac64/102.0.5005.61/chromedriver] found in cache\n"
     ]
    }
   ],
   "source": [
    "astrology_url = \"https://marshemispheres.com/\"\n",
    "executable_path = {'executable_path': ChromeDriverManager().install()}\n",
    "browser = Browser('chrome', **executable_path, headless=False)\n",
    "browser.visit(astrology_url)"
   ]
  },
  {
   "cell_type": "code",
   "execution_count": 54,
   "id": "32ce20bb",
   "metadata": {},
   "outputs": [],
   "source": [
    "html = browser.html\n",
    "soup = BeautifulSoup(html, 'lxml')"
   ]
  },
  {
   "cell_type": "code",
   "execution_count": 55,
   "id": "ede7d04d",
   "metadata": {},
   "outputs": [],
   "source": [
    "img_link_html = soup.find('div', class_='collapsible results')\n",
    "anchor = img_link_html.find_all('h3')"
   ]
  },
  {
   "cell_type": "code",
   "execution_count": 56,
   "id": "1af1cf50",
   "metadata": {},
   "outputs": [],
   "source": [
    "titles = []\n",
    "links = []\n",
    "html = browser.html\n",
    "soup = BeautifulSoup(html, 'lxml')"
   ]
  },
  {
   "cell_type": "code",
   "execution_count": 57,
   "id": "3b317e16",
   "metadata": {},
   "outputs": [],
   "source": [
    "for title in titles:\n",
    "    browser.links.find_by_partial_text(title).click()\n",
    "    browser.links.find_by_text('Open').click()\n",
    "    \n",
    "    html = browser.html\n",
    "    soup = BeautifulSoup(html, 'lxml')\n",
    "\n",
    "    image_link = astrology_url + soup.find('img', class_=\"wide-image\")['src']\n",
    "    title_img_dict = {}\n",
    "    title_img_dict['title'] = title\n",
    "    title_img_dict['img_url'] = img_url\n",
    "    \n",
    "    links.append(title_img_dict)\n",
    "    browser.links.find_by_text('Close').click()\n",
    "    browser.links.find_by_partial_text('Back').click()\n",
    "\n"
   ]
  },
  {
   "cell_type": "code",
   "execution_count": 58,
   "id": "4d9d74dc",
   "metadata": {},
   "outputs": [],
   "source": [
    "browser.quit()"
   ]
  },
  {
   "cell_type": "code",
   "execution_count": 71,
   "id": "09d31a6e",
   "metadata": {},
   "outputs": [],
   "source": [
    "mars_data = {}\n",
    "mars_data['news_title'] = news_title\n",
    "mars_data['news_p'] = news_p\n",
    "mars_data['img_complete_url'] = img_complete_url\n",
    "mars_data['mars_table'] = mars_table\n",
    "mars_data['links'] = links"
   ]
  },
  {
   "cell_type": "code",
   "execution_count": 72,
   "id": "9cdc2991",
   "metadata": {},
   "outputs": [
    {
     "data": {
      "text/plain": [
       "{'news_title': <div class=\"content_title\">Two of a Space Kind: Apollo 12 and Mars 2020</div>,\n",
       " 'news_p': <div class=\"article_teaser_body\">Apollo 12 and the upcoming Mars 2020 mission may be separated by half a century, but they share several goals unique in the annals of space exploration.</div>,\n",
       " 'img_complete_url': ['https://spaceimages-mars.com/image/featured/mars1.jpg'],\n",
       " 'mars_table': '<table border=\"1\" class=\"dataframe table table-stripped\">  <thead>    <tr style=\"text-align: left;\">      <th></th>      <th>Mars-Earth Comparison</th>      <th>Mars</th>      <th>Earth</th>    </tr>  </thead>  <tbody>    <tr>      <th>0</th>      <td>Mars - Earth Comparison</td>      <td>Mars</td>      <td>Earth</td>    </tr>    <tr>      <th>1</th>      <td>Diameter:</td>      <td>6,779 km</td>      <td>12,742 km</td>    </tr>    <tr>      <th>2</th>      <td>Mass:</td>      <td>6.39 × 10^23 kg</td>      <td>5.97 × 10^24 kg</td>    </tr>    <tr>      <th>3</th>      <td>Moons:</td>      <td>2</td>      <td>1</td>    </tr>    <tr>      <th>4</th>      <td>Distance from Sun:</td>      <td>227,943,824 km</td>      <td>149,598,262 km</td>    </tr>    <tr>      <th>5</th>      <td>Length of Year:</td>      <td>687 Earth days</td>      <td>365.24 days</td>    </tr>    <tr>      <th>6</th>      <td>Temperature:</td>      <td>-87 to -5 °C</td>      <td>-88 to 58°C</td>    </tr>  </tbody></table>',\n",
       " 'links': []}"
      ]
     },
     "execution_count": 72,
     "metadata": {},
     "output_type": "execute_result"
    }
   ],
   "source": [
    "mars_data"
   ]
  },
  {
   "cell_type": "code",
   "execution_count": null,
   "id": "0e0027a8",
   "metadata": {},
   "outputs": [],
   "source": []
  }
 ],
 "metadata": {
  "kernelspec": {
   "display_name": "Python [conda env:PythonData38] *",
   "language": "python",
   "name": "conda-env-PythonData38-py"
  },
  "language_info": {
   "codemirror_mode": {
    "name": "ipython",
    "version": 3
   },
   "file_extension": ".py",
   "mimetype": "text/x-python",
   "name": "python",
   "nbconvert_exporter": "python",
   "pygments_lexer": "ipython3",
   "version": "3.8.12"
  }
 },
 "nbformat": 4,
 "nbformat_minor": 5
}
