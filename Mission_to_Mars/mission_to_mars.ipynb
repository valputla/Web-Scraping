{
 "cells": [
  {
   "cell_type": "code",
   "execution_count": 1,
   "id": "1c5313ef",
   "metadata": {},
   "outputs": [],
   "source": [
    "from splinter import Browser\n",
    "from bs4 import BeautifulSoup\n",
    "from webdriver_manager.chrome import ChromeDriverManager\n",
    "import requests\n",
    "import pymongo\n",
    "import pandas as pd"
   ]
  },
  {
   "cell_type": "code",
   "execution_count": 2,
   "id": "5a369bb1",
   "metadata": {},
   "outputs": [],
   "source": [
    "url = \"https://redplanetscience.com/\""
   ]
  },
  {
   "cell_type": "code",
   "execution_count": 3,
   "id": "072e9c9d",
   "metadata": {},
   "outputs": [
    {
     "name": "stderr",
     "output_type": "stream",
     "text": [
      "\n",
      "\n",
      "====== WebDriver manager ======\n",
      "Current google-chrome version is 102.0.5005\n",
      "Get LATEST chromedriver version for 102.0.5005 google-chrome\n",
      "Trying to download new driver from https://chromedriver.storage.googleapis.com/102.0.5005.61/chromedriver_mac64.zip\n",
      "Driver has been saved in cache [/Users/lindseyvalput/.wdm/drivers/chromedriver/mac64/102.0.5005.61]\n"
     ]
    }
   ],
   "source": [
    "executable_path = {'executable_path': ChromeDriverManager().install()}\n",
    "browser = Browser('chrome', **executable_path, headless=False)"
   ]
  },
  {
   "cell_type": "code",
   "execution_count": 4,
   "id": "6d7aeb5e",
   "metadata": {},
   "outputs": [],
   "source": [
    "mars_webpage = browser.visit(url)"
   ]
  },
  {
   "cell_type": "code",
   "execution_count": 5,
   "id": "93e53f57",
   "metadata": {},
   "outputs": [],
   "source": [
    "html = browser.html\n",
    "soup = BeautifulSoup(html, 'html.parser')\n",
    "# print(soup.prettify())"
   ]
  },
  {
   "cell_type": "code",
   "execution_count": 16,
   "id": "81f5b44d",
   "metadata": {},
   "outputs": [
    {
     "data": {
      "text/plain": [
       "\"A crisply rendered web application can show you where the agency's Mars 2020 mission is right now as it makes its way to the Red Planet for a Feb. 18, 2021, landing.\""
      ]
     },
     "execution_count": 16,
     "metadata": {},
     "output_type": "execute_result"
    }
   ],
   "source": [
    "news_title = soup.find('div', class_='content_title').text\n",
    "news_p = soup.find('div', class_='article_teaser_body').text"
   ]
  },
  {
   "cell_type": "code",
   "execution_count": 10,
   "id": "ba14e4bb",
   "metadata": {},
   "outputs": [],
   "source": [
    "#Alternative solution - loop through titles and paragraphs to see all. \n",
    "titles = soup.find_all('div', class_='content_title')\n",
    "paragraphs = soup.find_all('div', class_='article_teaser_body')"
   ]
  },
  {
   "cell_type": "code",
   "execution_count": 199,
   "id": "3f863378",
   "metadata": {
    "scrolled": true
   },
   "outputs": [
    {
     "name": "stdout",
     "output_type": "stream",
     "text": [
      "['Two of a Space Kind: Apollo 12 and Mars 2020']\n",
      "['My Culture, My Voice']\n",
      "[\"The Detective Aboard NASA's Perseverance Rover\"]\n",
      "['NASA to Hold Mars 2020 Perseverance Rover Launch Briefing']\n",
      "[\"NASA's Mars 2020 Rover Closer to Getting Its Name\"]\n",
      "[\"NASA's Mars Perseverance Rover Passes Flight Readiness Review\"]\n",
      "['Two Rovers to Roll on Mars Again: Curiosity and Mars 2020']\n",
      "[\"Nine Finalists Chosen in NASA's Mars 2020 Rover Naming Contest\"]\n",
      "[\"HiRISE Views NASA's InSight and Curiosity on Mars\"]\n",
      "['NASA Prepares for Moon and Mars With New Addition to Its Deep Space Network']\n",
      "[\"NASA's Mars 2020 Heads Into the Test Chamber\"]\n",
      "[\"8 Martian Postcards to Celebrate Curiosity's Landing Anniversary\"]\n",
      "['NASA Moves Forward With Campaign to Return Mars Samples to Earth']\n",
      "[\"Common Questions about InSight's 'Mole'\"]\n",
      "['Join NASA for the Launch of the Mars 2020 Perseverance Rover']\n"
     ]
    }
   ],
   "source": [
    "for news_title in titles:\n",
    "    print([news_title.text])"
   ]
  },
  {
   "cell_type": "code",
   "execution_count": 213,
   "id": "75b8f9bf",
   "metadata": {},
   "outputs": [
    {
     "name": "stdout",
     "output_type": "stream",
     "text": [
      "['Apollo 12 and the upcoming Mars 2020 mission may be separated by half a century, but they share several goals unique in the annals of space exploration.']\n",
      "['In honor of Hispanic Heritage Month, Christina Hernandez, an instrument engineer on the Mars 2020 mission, talks about her childhood and journey to NASA.']\n",
      "['An instrument called SHERLOC will, with the help of its partner WATSON, hunt for signs of ancient life by detecting organic molecules and minerals.']\n",
      "[\"Learn more about the agency's next Red Planet mission during a live event on June 17.\"]\n",
      "[\"155 students from across the U.S. have been chosen as semifinalists in NASA's essay contest to name the Mars 2020 rover, and see it launch from Cape Canaveral this July.\"]\n",
      "[\"\\u200bThe agency's Mars 2020 mission has one more big prelaunch review – the Launch Readiness Review, on July 27.\"]\n",
      "['They look like twins. But under the hood, the rover currently exploring the Red Planet and the one launching there this summer have distinct science tools and roles to play.']\n",
      "[\"Nine finalists have been chosen in the essay contest for K-12 students across U.S. to name NASA's next Mars rover. Now you can help by voting for your favorite. \"]\n",
      "['New images taken from space offer the clearest orbital glimpse yet of InSight as well as a view of Curiosity rolling along.']\n",
      "['Robotic spacecraft will be able to communicate with the dish using radio waves and lasers.']\n",
      "['In this time-lapse video taken at JPL, engineers move the Mars 2020 rover into a large vacuum chamber for testing in Mars-like environmental conditions.']\n",
      "['The NASA rover touched down eight years ago, on Aug. 5, 2012, and will soon be joined by a second rover, Perseverance.']\n",
      "['During this next phase, the program will mature critical technologies and make critical design decisions as well as assess industry partnerships.']\n",
      "['The following Q&As with members of the team answer some of the most common questions about the burrowing device, part of a science instrument called the Heat Flow and Physical Properties Package (HP3).']\n",
      "['No matter where you live, choose from a menu of activities to join NASA as we \"Countdown to Mars\" and launch the Perseverance rover to the Red Planet.']\n"
     ]
    }
   ],
   "source": [
    "for news_p in paragraphs:\n",
    "   print([news_p.text])"
   ]
  },
  {
   "cell_type": "code",
   "execution_count": 223,
   "id": "4daac9ac",
   "metadata": {},
   "outputs": [
    {
     "name": "stdout",
     "output_type": "stream",
     "text": [
      "{'Title: Two of a Space Kind: Apollo 12 and Mars 2020, Paragraph: Apollo 12 and the upcoming Mars 2020 mission may be separated by half a century, but they share several goals unique in the annals of space exploration.'}\n",
      "{'Title: My Culture, My Voice, Paragraph: In honor of Hispanic Heritage Month, Christina Hernandez, an instrument engineer on the Mars 2020 mission, talks about her childhood and journey to NASA.'}\n",
      "{\"Title: The Detective Aboard NASA's Perseverance Rover, Paragraph: An instrument called SHERLOC will, with the help of its partner WATSON, hunt for signs of ancient life by detecting organic molecules and minerals.\"}\n",
      "{\"Title: NASA to Hold Mars 2020 Perseverance Rover Launch Briefing, Paragraph: Learn more about the agency's next Red Planet mission during a live event on June 17.\"}\n",
      "{\"Title: NASA's Mars 2020 Rover Closer to Getting Its Name, Paragraph: 155 students from across the U.S. have been chosen as semifinalists in NASA's essay contest to name the Mars 2020 rover, and see it launch from Cape Canaveral this July.\"}\n",
      "{\"Title: NASA's Mars Perseverance Rover Passes Flight Readiness Review, Paragraph: \\u200bThe agency's Mars 2020 mission has one more big prelaunch review – the Launch Readiness Review, on July 27.\"}\n",
      "{'Title: Two Rovers to Roll on Mars Again: Curiosity and Mars 2020, Paragraph: They look like twins. But under the hood, the rover currently exploring the Red Planet and the one launching there this summer have distinct science tools and roles to play.'}\n",
      "{\"Title: Nine Finalists Chosen in NASA's Mars 2020 Rover Naming Contest, Paragraph: Nine finalists have been chosen in the essay contest for K-12 students across U.S. to name NASA's next Mars rover. Now you can help by voting for your favorite. \"}\n",
      "{\"Title: HiRISE Views NASA's InSight and Curiosity on Mars, Paragraph: New images taken from space offer the clearest orbital glimpse yet of InSight as well as a view of Curiosity rolling along.\"}\n",
      "{'Title: NASA Prepares for Moon and Mars With New Addition to Its Deep Space Network, Paragraph: Robotic spacecraft will be able to communicate with the dish using radio waves and lasers.'}\n",
      "{\"Title: NASA's Mars 2020 Heads Into the Test Chamber, Paragraph: In this time-lapse video taken at JPL, engineers move the Mars 2020 rover into a large vacuum chamber for testing in Mars-like environmental conditions.\"}\n",
      "{\"Title: 8 Martian Postcards to Celebrate Curiosity's Landing Anniversary, Paragraph: The NASA rover touched down eight years ago, on Aug. 5, 2012, and will soon be joined by a second rover, Perseverance.\"}\n",
      "{'Title: NASA Moves Forward With Campaign to Return Mars Samples to Earth, Paragraph: During this next phase, the program will mature critical technologies and make critical design decisions as well as assess industry partnerships.'}\n",
      "{\"Title: Common Questions about InSight's 'Mole', Paragraph: The following Q&As with members of the team answer some of the most common questions about the burrowing device, part of a science instrument called the Heat Flow and Physical Properties Package (HP3).\"}\n",
      "{'Title: Join NASA for the Launch of the Mars 2020 Perseverance Rover, Paragraph: No matter where you live, choose from a menu of activities to join NASA as we \"Countdown to Mars\" and launch the Perseverance rover to the Red Planet.'}\n"
     ]
    }
   ],
   "source": [
    "titles_para = zip(titles, paragraphs)\n",
    "for x, y in titles_para:\n",
    "    print({f\"Title: {x.text}, Paragraph: {y.text}\"})"
   ]
  },
  {
   "cell_type": "code",
   "execution_count": 17,
   "id": "8a60a92e",
   "metadata": {},
   "outputs": [],
   "source": [
    "browser.quit()"
   ]
  },
  {
   "cell_type": "code",
   "execution_count": 18,
   "id": "bf92ad32",
   "metadata": {},
   "outputs": [],
   "source": [
    "space_image_url = \"https://spaceimages-mars.com/\""
   ]
  },
  {
   "cell_type": "code",
   "execution_count": 19,
   "id": "fd713670",
   "metadata": {},
   "outputs": [
    {
     "name": "stderr",
     "output_type": "stream",
     "text": [
      "\n",
      "\n",
      "====== WebDriver manager ======\n",
      "Current google-chrome version is 102.0.5005\n",
      "Get LATEST chromedriver version for 102.0.5005 google-chrome\n",
      "Driver [/Users/lindseyvalput/.wdm/drivers/chromedriver/mac64/102.0.5005.61/chromedriver] found in cache\n"
     ]
    }
   ],
   "source": [
    "executable_path = {'executable_path': ChromeDriverManager().install()}\n",
    "browser = Browser('chrome', **executable_path, headless=False)"
   ]
  },
  {
   "cell_type": "code",
   "execution_count": 20,
   "id": "30971515",
   "metadata": {},
   "outputs": [],
   "source": [
    "space_image_webpage = browser.visit(space_image_url)"
   ]
  },
  {
   "cell_type": "code",
   "execution_count": 21,
   "id": "3d6d7359",
   "metadata": {},
   "outputs": [],
   "source": [
    "html = browser.html\n",
    "soup = BeautifulSoup(html, 'html.parser')\n",
    "# print(soup.prettify())"
   ]
  },
  {
   "cell_type": "code",
   "execution_count": 22,
   "id": "ad80045a",
   "metadata": {},
   "outputs": [
    {
     "data": {
      "text/plain": [
       "<div class=\"floating_text_area\">\n",
       "<h2 class=\"brand_title\">FEATURED IMAGE</h2>\n",
       "<h1 class=\"media_feature_title\">Dusty Space Cloud</h1>\n",
       "<br/>\n",
       "<a class=\"showimg fancybox-thumbs\" href=\"image/featured/mars1.jpg\" target=\"_blank\"> <button class=\"btn btn-outline-light\"> FULL IMAGE</button></a>\n",
       "</div>"
      ]
     },
     "execution_count": 22,
     "metadata": {},
     "output_type": "execute_result"
    }
   ],
   "source": [
    "img_result = soup.find('div', class_='floating_text_area')\n",
    "\n",
    "img_result"
   ]
  },
  {
   "cell_type": "code",
   "execution_count": 23,
   "id": "7876caf8",
   "metadata": {},
   "outputs": [
    {
     "name": "stdout",
     "output_type": "stream",
     "text": [
      "['https://spaceimages-mars.com/image/featured/mars1.jpg']\n"
     ]
    }
   ],
   "source": [
    "img_url = img_result.find('a')['href']\n",
    "img_complete_url = [space_image_url + img_url]\n",
    "print(img_complete_url)"
   ]
  },
  {
   "cell_type": "code",
   "execution_count": 24,
   "id": "22061850",
   "metadata": {},
   "outputs": [],
   "source": [
    "browser.quit()"
   ]
  },
  {
   "cell_type": "code",
   "execution_count": 25,
   "id": "a0d2fed2",
   "metadata": {},
   "outputs": [],
   "source": [
    "mars_table_url = \"https://galaxyfacts-mars.com/\""
   ]
  },
  {
   "cell_type": "code",
   "execution_count": 26,
   "id": "6dc57363",
   "metadata": {},
   "outputs": [
    {
     "name": "stderr",
     "output_type": "stream",
     "text": [
      "\n",
      "\n",
      "====== WebDriver manager ======\n",
      "Current google-chrome version is 102.0.5005\n",
      "Get LATEST chromedriver version for 102.0.5005 google-chrome\n",
      "Driver [/Users/lindseyvalput/.wdm/drivers/chromedriver/mac64/102.0.5005.61/chromedriver] found in cache\n"
     ]
    }
   ],
   "source": [
    "executable_path = {'executable_path': ChromeDriverManager().install()}\n",
    "browser = Browser('chrome', **executable_path, headless=False)"
   ]
  },
  {
   "cell_type": "code",
   "execution_count": 27,
   "id": "0a6bbd3a",
   "metadata": {},
   "outputs": [],
   "source": [
    "mars_table_webpage = browser.visit(mars_table_url)"
   ]
  },
  {
   "cell_type": "code",
   "execution_count": 28,
   "id": "f9013761",
   "metadata": {},
   "outputs": [],
   "source": [
    "html = browser.html\n",
    "soup = BeautifulSoup(html, 'html.parser')\n",
    "# print(soup.prettify())"
   ]
  },
  {
   "cell_type": "code",
   "execution_count": 30,
   "id": "4197ff25",
   "metadata": {},
   "outputs": [
    {
     "name": "stdout",
     "output_type": "stream",
     "text": [
      "<table class=\"table table-striped\">\n",
      "<tbody>\n",
      "<tr>\n",
      "<th scope=\"row\">Equatorial Diameter:</th>\n",
      "<td>6,792 km</td>\n",
      "</tr>\n",
      "<tr>\n",
      "<th scope=\"row\">Polar Diameter:</th>\n",
      "<td>6,752 km</td>\n",
      "</tr>\n",
      "<tr>\n",
      "<th scope=\"row\">Mass:</th>\n",
      "<td>\t6.39 × 10^23 kg (0.11 Earths)</td>\n",
      "</tr>\n",
      "<tr>\n",
      "<th scope=\"row\">Moons:</th>\n",
      "<td>\t2 ( <span class=\"red\">Phobos </span> &amp; <span class=\"red\"> Deimos </span>)</td>\n",
      "</tr>\n",
      "<tr>\n",
      "<th scope=\"row\">Orbit Distance:</th>\n",
      "<td>\t227,943,824 km (1.38 AU)</td>\n",
      "</tr>\n",
      "<tr>\n",
      "<th scope=\"row\">Orbit Period:</th>\n",
      "<td>\t687 days (1.9 years)</td>\n",
      "</tr>\n",
      "<tr>\n",
      "<th scope=\"row\">Surface Temperature:</th>\n",
      "<td>\t-87 to -5 °C</td>\n",
      "</tr>\n",
      "<tr>\n",
      "<th scope=\"row\">First Record:</th>\n",
      "<td>\t2nd millennium BC</td>\n",
      "</tr>\n",
      "<tr>\n",
      "<th scope=\"row\">Recorded By:</th>\n",
      "<td>\tEgyptian astronomers</td>\n",
      "</tr>\n",
      "</tbody>\n",
      "</table>\n"
     ]
    }
   ],
   "source": [
    "table_html = soup.find('table', class_='table table-striped')\n",
    "print(table_html)"
   ]
  },
  {
   "cell_type": "code",
   "execution_count": 32,
   "id": "584005b2",
   "metadata": {},
   "outputs": [
    {
     "name": "stdout",
     "output_type": "stream",
     "text": [
      "<table class=\"table table-striped\">\n",
      "<tbody>\n",
      "<tr>\n",
      "<th scope=\"row\">Equatorial Diameter:</th>\n",
      "<td>6,792 km</td>\n",
      "</tr>\n",
      "<tr>\n",
      "<th scope=\"row\">Polar Diameter:</th>\n",
      "<td>6,752 km</td>\n",
      "</tr>\n",
      "<tr>\n",
      "<th scope=\"row\">Mass:</th>\n",
      "<td>\t6.39 × 10^23 kg (0.11 Earths)</td>\n",
      "</tr>\n",
      "<tr>\n",
      "<th scope=\"row\">Moons:</th>\n",
      "<td>\t2 ( <span class=\"red\">Phobos </span> &amp; <span class=\"red\"> Deimos </span>)</td>\n",
      "</tr>\n",
      "<tr>\n",
      "<th scope=\"row\">Orbit Distance:</th>\n",
      "<td>\t227,943,824 km (1.38 AU)</td>\n",
      "</tr>\n",
      "<tr>\n",
      "<th scope=\"row\">Orbit Period:</th>\n",
      "<td>\t687 days (1.9 years)</td>\n",
      "</tr>\n",
      "<tr>\n",
      "<th scope=\"row\">Surface Temperature:</th>\n",
      "<td>\t-87 to -5 °C</td>\n",
      "</tr>\n",
      "<tr>\n",
      "<th scope=\"row\">First Record:</th>\n",
      "<td>\t2nd millennium BC</td>\n",
      "</tr>\n",
      "<tr>\n",
      "<th scope=\"row\">Recorded By:</th>\n",
      "<td>\tEgyptian astronomers</td>\n",
      "</tr>\n",
      "</tbody>\n",
      "</table>\n"
     ]
    }
   ],
   "source": [
    "print(table_html)"
   ]
  },
  {
   "cell_type": "code",
   "execution_count": 33,
   "id": "91f732c5",
   "metadata": {},
   "outputs": [],
   "source": [
    "browser.quit()"
   ]
  },
  {
   "cell_type": "code",
   "execution_count": 34,
   "id": "a3ce0971",
   "metadata": {},
   "outputs": [],
   "source": [
    "table = pd.read_html(\"https://galaxyfacts-mars.com/\")"
   ]
  },
  {
   "cell_type": "code",
   "execution_count": 35,
   "id": "ea9e3e14",
   "metadata": {},
   "outputs": [
    {
     "data": {
      "text/plain": [
       "[                         0                1                2\n",
       " 0  Mars - Earth Comparison             Mars            Earth\n",
       " 1                Diameter:         6,779 km        12,742 km\n",
       " 2                    Mass:  6.39 × 10^23 kg  5.97 × 10^24 kg\n",
       " 3                   Moons:                2                1\n",
       " 4       Distance from Sun:   227,943,824 km   149,598,262 km\n",
       " 5          Length of Year:   687 Earth days      365.24 days\n",
       " 6             Temperature:     -87 to -5 °C      -88 to 58°C,\n",
       "                       0                              1\n",
       " 0  Equatorial Diameter:                       6,792 km\n",
       " 1       Polar Diameter:                       6,752 km\n",
       " 2                 Mass:  6.39 × 10^23 kg (0.11 Earths)\n",
       " 3                Moons:          2 ( Phobos & Deimos )\n",
       " 4       Orbit Distance:       227,943,824 km (1.38 AU)\n",
       " 5         Orbit Period:           687 days (1.9 years)\n",
       " 6  Surface Temperature:                   -87 to -5 °C\n",
       " 7         First Record:              2nd millennium BC\n",
       " 8          Recorded By:           Egyptian astronomers]"
      ]
     },
     "execution_count": 35,
     "metadata": {},
     "output_type": "execute_result"
    }
   ],
   "source": [
    "table"
   ]
  },
  {
   "cell_type": "code",
   "execution_count": 37,
   "id": "86f3d437",
   "metadata": {},
   "outputs": [
    {
     "data": {
      "text/html": [
       "<div>\n",
       "<style scoped>\n",
       "    .dataframe tbody tr th:only-of-type {\n",
       "        vertical-align: middle;\n",
       "    }\n",
       "\n",
       "    .dataframe tbody tr th {\n",
       "        vertical-align: top;\n",
       "    }\n",
       "\n",
       "    .dataframe thead th {\n",
       "        text-align: right;\n",
       "    }\n",
       "</style>\n",
       "<table border=\"1\" class=\"dataframe\">\n",
       "  <thead>\n",
       "    <tr style=\"text-align: right;\">\n",
       "      <th></th>\n",
       "      <th>0</th>\n",
       "      <th>1</th>\n",
       "      <th>2</th>\n",
       "    </tr>\n",
       "  </thead>\n",
       "  <tbody>\n",
       "    <tr>\n",
       "      <th>0</th>\n",
       "      <td>Mars - Earth Comparison</td>\n",
       "      <td>Mars</td>\n",
       "      <td>Earth</td>\n",
       "    </tr>\n",
       "    <tr>\n",
       "      <th>1</th>\n",
       "      <td>Diameter:</td>\n",
       "      <td>6,779 km</td>\n",
       "      <td>12,742 km</td>\n",
       "    </tr>\n",
       "    <tr>\n",
       "      <th>2</th>\n",
       "      <td>Mass:</td>\n",
       "      <td>6.39 × 10^23 kg</td>\n",
       "      <td>5.97 × 10^24 kg</td>\n",
       "    </tr>\n",
       "    <tr>\n",
       "      <th>3</th>\n",
       "      <td>Moons:</td>\n",
       "      <td>2</td>\n",
       "      <td>1</td>\n",
       "    </tr>\n",
       "    <tr>\n",
       "      <th>4</th>\n",
       "      <td>Distance from Sun:</td>\n",
       "      <td>227,943,824 km</td>\n",
       "      <td>149,598,262 km</td>\n",
       "    </tr>\n",
       "    <tr>\n",
       "      <th>5</th>\n",
       "      <td>Length of Year:</td>\n",
       "      <td>687 Earth days</td>\n",
       "      <td>365.24 days</td>\n",
       "    </tr>\n",
       "    <tr>\n",
       "      <th>6</th>\n",
       "      <td>Temperature:</td>\n",
       "      <td>-87 to -5 °C</td>\n",
       "      <td>-88 to 58°C</td>\n",
       "    </tr>\n",
       "  </tbody>\n",
       "</table>\n",
       "</div>"
      ],
      "text/plain": [
       "                         0                1                2\n",
       "0  Mars - Earth Comparison             Mars            Earth\n",
       "1                Diameter:         6,779 km        12,742 km\n",
       "2                    Mass:  6.39 × 10^23 kg  5.97 × 10^24 kg\n",
       "3                   Moons:                2                1\n",
       "4       Distance from Sun:   227,943,824 km   149,598,262 km\n",
       "5          Length of Year:   687 Earth days      365.24 days\n",
       "6             Temperature:     -87 to -5 °C      -88 to 58°C"
      ]
     },
     "execution_count": 37,
     "metadata": {},
     "output_type": "execute_result"
    }
   ],
   "source": [
    "df = table[0]\n",
    "df"
   ]
  },
  {
   "cell_type": "code",
   "execution_count": 112,
   "id": "3c20f309",
   "metadata": {},
   "outputs": [],
   "source": [
    "df.to_html('table.html')"
   ]
  },
  {
   "cell_type": "code",
   "execution_count": 103,
   "id": "beb84e68",
   "metadata": {},
   "outputs": [
    {
     "name": "stderr",
     "output_type": "stream",
     "text": [
      "\n",
      "\n",
      "====== WebDriver manager ======\n",
      "Current google-chrome version is 102.0.5005\n",
      "Get LATEST chromedriver version for 102.0.5005 google-chrome\n",
      "Driver [/Users/lindseyvalput/.wdm/drivers/chromedriver/mac64/102.0.5005.61/chromedriver] found in cache\n"
     ]
    }
   ],
   "source": [
    "astrology_url = \"https://marshemispheres.com/\"\n",
    "executable_path = {'executable_path': ChromeDriverManager().install()}\n",
    "browser = Browser('chrome', **executable_path, headless=False)\n",
    "browser.visit(astrology_url)"
   ]
  },
  {
   "cell_type": "code",
   "execution_count": 104,
   "id": "32ce20bb",
   "metadata": {},
   "outputs": [],
   "source": [
    "html = browser.html\n",
    "soup = BeautifulSoup(html, 'lxml')"
   ]
  },
  {
   "cell_type": "code",
   "execution_count": 105,
   "id": "ede7d04d",
   "metadata": {},
   "outputs": [],
   "source": [
    "img_link_html = soup.find('div', class_='collapsible results')\n",
    "anchor = img_link_html.find_all('h3')"
   ]
  },
  {
   "cell_type": "code",
   "execution_count": 106,
   "id": "1af1cf50",
   "metadata": {},
   "outputs": [
    {
     "name": "stdout",
     "output_type": "stream",
     "text": [
      "['Cerberus Hemisphere Enhanced', 'Schiaparelli Hemisphere Enhanced', 'Syrtis Major Hemisphere Enhanced', 'Valles Marineris Hemisphere Enhanced']\n"
     ]
    }
   ],
   "source": [
    "titles = []\n",
    "links = []\n",
    "\n",
    "for h3 in range(0,4):\n",
    "    descriptions = anchor[h3].text\n",
    "    titles.append(descriptions)\n",
    "print(titles)"
   ]
  },
  {
   "cell_type": "code",
   "execution_count": 107,
   "id": "3b317e16",
   "metadata": {},
   "outputs": [
    {
     "name": "stdout",
     "output_type": "stream",
     "text": [
      "[{'title': 'Cerberus Hemisphere Enhanced', 'img_url': 'https://marshemispheres.com/images/b3c7c6c9138f57b4756be9b9c43e3a48_valles_marineris_enhanced.tif_full.jpg'}, {'title': 'Schiaparelli Hemisphere Enhanced', 'img_url': 'https://marshemispheres.com/images/b3c7c6c9138f57b4756be9b9c43e3a48_valles_marineris_enhanced.tif_full.jpg'}, {'title': 'Syrtis Major Hemisphere Enhanced', 'img_url': 'https://marshemispheres.com/images/b3c7c6c9138f57b4756be9b9c43e3a48_valles_marineris_enhanced.tif_full.jpg'}, {'title': 'Valles Marineris Hemisphere Enhanced', 'img_url': 'https://marshemispheres.com/images/b3c7c6c9138f57b4756be9b9c43e3a48_valles_marineris_enhanced.tif_full.jpg'}]\n"
     ]
    }
   ],
   "source": [
    "for title in titles:\n",
    "    browser.links.find_by_partial_text(title).click()\n",
    "    browser.links.find_by_text('Open').click()\n",
    "    \n",
    "    html = browser.html\n",
    "    soup = BeautifulSoup(html, 'lxml')\n",
    "\n",
    "    image_link = astrology_url + soup.find('img', class_=\"wide-image\")['src']\n",
    "    title_img_dict = {}\n",
    "    title_img_dict['title'] = title\n",
    "    title_img_dict['img_url'] = img_url\n",
    "    \n",
    "    links.append(title_img_dict)\n",
    "    browser.links.find_by_text('Close').click()\n",
    "    browser.links.find_by_partial_text('Back').click()\n",
    "\n",
    "    \n",
    "print(links)"
   ]
  },
  {
   "cell_type": "code",
   "execution_count": 108,
   "id": "4d9d74dc",
   "metadata": {},
   "outputs": [],
   "source": [
    "browser.quit()"
   ]
  },
  {
   "cell_type": "code",
   "execution_count": 98,
   "id": "09d31a6e",
   "metadata": {},
   "outputs": [],
   "source": [
    "mars_data = {}\n",
    "mars_data['news_title'] = news_title\n",
    "mars_data['news_p'] = news_p\n",
    "mars_data['img_complete_url'] = img_complete_url\n",
    "mars_data['table_html'] = table_html\n",
    "mars_data['links'] = links"
   ]
  },
  {
   "cell_type": "code",
   "execution_count": 109,
   "id": "9cdc2991",
   "metadata": {},
   "outputs": [
    {
     "data": {
      "text/plain": [
       "{'news_title': \"Follow NASA's Perseverance Rover in Real Time on Its Way to Mars\",\n",
       " 'news_p': \"A crisply rendered web application can show you where the agency's Mars 2020 mission is right now as it makes its way to the Red Planet for a Feb. 18, 2021, landing.\",\n",
       " 'img_complete_url': ['https://spaceimages-mars.com/image/featured/mars1.jpg'],\n",
       " 'table_html': <table class=\"table table-striped\">\n",
       " <tbody>\n",
       " <tr>\n",
       " <th scope=\"row\">Equatorial Diameter:</th>\n",
       " <td>6,792 km</td>\n",
       " </tr>\n",
       " <tr>\n",
       " <th scope=\"row\">Polar Diameter:</th>\n",
       " <td>6,752 km</td>\n",
       " </tr>\n",
       " <tr>\n",
       " <th scope=\"row\">Mass:</th>\n",
       " <td>\t6.39 × 10^23 kg (0.11 Earths)</td>\n",
       " </tr>\n",
       " <tr>\n",
       " <th scope=\"row\">Moons:</th>\n",
       " <td>\t2 ( <span class=\"red\">Phobos </span> &amp; <span class=\"red\"> Deimos </span>)</td>\n",
       " </tr>\n",
       " <tr>\n",
       " <th scope=\"row\">Orbit Distance:</th>\n",
       " <td>\t227,943,824 km (1.38 AU)</td>\n",
       " </tr>\n",
       " <tr>\n",
       " <th scope=\"row\">Orbit Period:</th>\n",
       " <td>\t687 days (1.9 years)</td>\n",
       " </tr>\n",
       " <tr>\n",
       " <th scope=\"row\">Surface Temperature:</th>\n",
       " <td>\t-87 to -5 °C</td>\n",
       " </tr>\n",
       " <tr>\n",
       " <th scope=\"row\">First Record:</th>\n",
       " <td>\t2nd millennium BC</td>\n",
       " </tr>\n",
       " <tr>\n",
       " <th scope=\"row\">Recorded By:</th>\n",
       " <td>\tEgyptian astronomers</td>\n",
       " </tr>\n",
       " </tbody>\n",
       " </table>,\n",
       " 'links': [{'title': 'Cerberus Hemisphere Enhanced',\n",
       "   'img_url': 'https://marshemispheres.com/images/b3c7c6c9138f57b4756be9b9c43e3a48_valles_marineris_enhanced.tif_full.jpg'},\n",
       "  {'title': 'Schiaparelli Hemisphere Enhanced',\n",
       "   'img_url': 'https://marshemispheres.com/images/b3c7c6c9138f57b4756be9b9c43e3a48_valles_marineris_enhanced.tif_full.jpg'},\n",
       "  {'title': 'Syrtis Major Hemisphere Enhanced',\n",
       "   'img_url': 'https://marshemispheres.com/images/b3c7c6c9138f57b4756be9b9c43e3a48_valles_marineris_enhanced.tif_full.jpg'},\n",
       "  {'title': 'Valles Marineris Hemisphere Enhanced',\n",
       "   'img_url': 'https://marshemispheres.com/images/b3c7c6c9138f57b4756be9b9c43e3a48_valles_marineris_enhanced.tif_full.jpg'}]}"
      ]
     },
     "execution_count": 109,
     "metadata": {},
     "output_type": "execute_result"
    }
   ],
   "source": [
    "mars_data"
   ]
  },
  {
   "cell_type": "code",
   "execution_count": null,
   "id": "0e0027a8",
   "metadata": {},
   "outputs": [],
   "source": []
  }
 ],
 "metadata": {
  "kernelspec": {
   "display_name": "Python [conda env:PythonData38] *",
   "language": "python",
   "name": "conda-env-PythonData38-py"
  },
  "language_info": {
   "codemirror_mode": {
    "name": "ipython",
    "version": 3
   },
   "file_extension": ".py",
   "mimetype": "text/x-python",
   "name": "python",
   "nbconvert_exporter": "python",
   "pygments_lexer": "ipython3",
   "version": "3.8.12"
  }
 },
 "nbformat": 4,
 "nbformat_minor": 5
}
