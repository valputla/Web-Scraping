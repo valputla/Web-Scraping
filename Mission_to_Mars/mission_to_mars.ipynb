{
 "cells": [
  {
   "cell_type": "code",
   "execution_count": 1,
   "id": "1c5313ef",
   "metadata": {},
   "outputs": [],
   "source": [
    "from splinter import Browser\n",
    "from bs4 import BeautifulSoup\n",
    "from webdriver_manager.chrome import ChromeDriverManager\n",
    "import requests\n",
    "import pymongo\n",
    "import pandas as pd\n",
    "import time"
   ]
  },
  {
   "cell_type": "code",
   "execution_count": 2,
   "id": "f3fa4fa2",
   "metadata": {},
   "outputs": [],
   "source": [
    "mars_data = {}"
   ]
  },
  {
   "cell_type": "code",
   "execution_count": 3,
   "id": "072e9c9d",
   "metadata": {},
   "outputs": [
    {
     "name": "stderr",
     "output_type": "stream",
     "text": [
      "\n",
      "\n",
      "====== WebDriver manager ======\n",
      "Current google-chrome version is 102.0.5005\n",
      "Get LATEST chromedriver version for 102.0.5005 google-chrome\n",
      "Driver [/Users/lindseyvalput/.wdm/drivers/chromedriver/mac64/102.0.5005.61/chromedriver] found in cache\n"
     ]
    }
   ],
   "source": [
    "executable_path = {'executable_path': ChromeDriverManager().install()}\n",
    "browser = Browser('chrome', **executable_path, headless=False)"
   ]
  },
  {
   "cell_type": "code",
   "execution_count": 4,
   "id": "6d7aeb5e",
   "metadata": {},
   "outputs": [],
   "source": [
    "url = \"https://redplanetscience.com/\"\n",
    "mars_webpage = browser.visit(url)"
   ]
  },
  {
   "cell_type": "code",
   "execution_count": 5,
   "id": "93e53f57",
   "metadata": {},
   "outputs": [],
   "source": [
    "html = browser.html\n",
    "soup = BeautifulSoup(html, 'html.parser')\n",
    "# print(soup.prettify())"
   ]
  },
  {
   "cell_type": "code",
   "execution_count": 6,
   "id": "81f5b44d",
   "metadata": {},
   "outputs": [],
   "source": [
    "news_title = soup.find('div', class_='content_title').text\n",
    "news_p = soup.find('div', class_='article_teaser_body').text"
   ]
  },
  {
   "cell_type": "code",
   "execution_count": 7,
   "id": "31f96177",
   "metadata": {},
   "outputs": [],
   "source": [
    "mars_data['news_p'] = news_p\n",
    "mars_data['news_title'] = news_title"
   ]
  },
  {
   "cell_type": "code",
   "execution_count": 8,
   "id": "ba14e4bb",
   "metadata": {},
   "outputs": [],
   "source": [
    "#Alternative solution - loop through titles and paragraphs to see all. \n",
    "titles = soup.find_all('div', class_='content_title')\n",
    "paragraphs = soup.find_all('div', class_='article_teaser_body')"
   ]
  },
  {
   "cell_type": "code",
   "execution_count": 9,
   "id": "3f863378",
   "metadata": {
    "scrolled": true
   },
   "outputs": [
    {
     "name": "stdout",
     "output_type": "stream",
     "text": [
      "[\"NASA Readies Perseverance Mars Rover's Earthly Twin \"]\n",
      "[\"NASA's Curiosity Mars Rover Takes a New Selfie Before Record Climb\"]\n",
      "[\"The Detective Aboard NASA's Perseverance Rover\"]\n",
      "[\"NASA's Perseverance Rover Bringing 3D-Printed Metal Parts to Mars\"]\n",
      "['AI Is Helping Scientists Discover Fresh Craters on Mars']\n",
      "[\"8 Martian Postcards to Celebrate Curiosity's Landing Anniversary\"]\n",
      "[\"NASA Engineers Checking InSight's Weather Sensors\"]\n",
      "[\"NASA's Mars Helicopter Attached to Mars 2020 Rover \"]\n",
      "['NASA Administrator Statement on Moon to Mars Initiative, FY 2021 Budget']\n",
      "[\"Mars InSight Lander to Push on Top of the 'Mole'\"]\n",
      "[\"NASA's Curiosity Keeps Rolling As Team Operates Rover From Home\"]\n",
      "[\"NASA's Perseverance Rover Will Carry First Spacesuit Materials to Mars\"]\n",
      "[\"NASA's Mars Rover Drivers Need Your Help\"]\n",
      "[\"Meet the People Behind NASA's Perseverance Rover\"]\n",
      "[\"NASA's Mars Perseverance Rover Passes Flight Readiness Review\"]\n"
     ]
    }
   ],
   "source": [
    "for news_title in titles:\n",
    "    print([news_title.text])"
   ]
  },
  {
   "cell_type": "code",
   "execution_count": 10,
   "id": "75b8f9bf",
   "metadata": {},
   "outputs": [
    {
     "name": "stdout",
     "output_type": "stream",
     "text": [
      "[\"From rockets to rovers, JPL's Spacecraft Assembly Facility has been at the center of robotic spaceflight. Here's a closer look at what makes it so special.\"]\n",
      "[\"Sensors on NASA's Perseverance will help prepare for future human exploration by taking weather measurements and studying dust particles.\"]\n",
      "['The leadership council for Mars 2020 science added two new members who represent the interests of scientists destined to handle and study the first samples from Red Planet.']\n",
      "['Other orbiters will continue relaying data from Mars surface missions for a two-week period.']\n",
      "['The following Q&As with members of the team answer some of the most common questions about the burrowing device, part of a science instrument called the Heat Flow and Physical Properties Package (HP3).']\n",
      "[\"NASA's next rover to the Red Planet is slated to launch no earlier than July 30. These highlights will get you up to speed on the ambitious mission.\"]\n",
      "[\"Through Nov. 1, K-12 students in the U.S. are encouraged to enter an essay contest to name NASA's next Mars rover.\"]\n",
      "['In this time-lapse video taken at JPL, engineers move the Mars 2020 rover into a large vacuum chamber for testing in Mars-like environmental conditions.']\n",
      "[\"The first to be rigged with microphones, the agency's latest Mars rover picked up the subtle sounds of its own inner workings during interplanetary flight.\"]\n",
      "['Two astronauts collected Moon rocks on Apollo 11. It will take three robotic systems working together to gather up the first Mars rock samples for return to Earth.']\n",
      "[\"The clean room at NASA's Jet Propulsion Laboratory was open to the media to see NASA's next Mars explorer before it leaves for Florida in preparation for a summertime launch.\"]\n",
      "[\"The agency's Mars 2020 mission is on its way. It will land at Jezero Crater in about seven months, on Feb. 18, 2021. \"]\n",
      "[\"\\u200bThe agency's Mars 2020 mission has one more big prelaunch review – the Launch Readiness Review, on July 27.\"]\n",
      "['Robotic spacecraft will be able to communicate with the dish using radio waves and lasers.']\n",
      "[\"Vaneeza Rupani's essay was chosen as the name for the small spacecraft, which will mark NASA's first attempt at powered flight on another planet.\"]\n"
     ]
    }
   ],
   "source": [
    "for news_p in paragraphs:\n",
    "    print([news_p.text])"
   ]
  },
  {
   "cell_type": "code",
   "execution_count": 11,
   "id": "4daac9ac",
   "metadata": {},
   "outputs": [
    {
     "name": "stdout",
     "output_type": "stream",
     "text": [
      "{\"Title: Space History Is Made in This NASA Robot Factory, Paragraph: From rockets to rovers, JPL's Spacecraft Assembly Facility has been at the center of robotic spaceflight. Here's a closer look at what makes it so special.\"}\n",
      "{\"Title: Mars Is Getting a New Robotic Meteorologist, Paragraph: Sensors on NASA's Perseverance will help prepare for future human exploration by taking weather measurements and studying dust particles.\"}\n",
      "{'Title: NASA Adds Return Sample Scientists to Mars 2020 Leadership Team, Paragraph: The leadership council for Mars 2020 science added two new members who represent the interests of scientists destined to handle and study the first samples from Red Planet.'}\n",
      "{\"Title: NASA's Mars Reconnaissance Orbiter Undergoes Memory Update, Paragraph: Other orbiters will continue relaying data from Mars surface missions for a two-week period.\"}\n",
      "{\"Title: Common Questions about InSight's 'Mole', Paragraph: The following Q&As with members of the team answer some of the most common questions about the burrowing device, part of a science instrument called the Heat Flow and Physical Properties Package (HP3).\"}\n",
      "{\"Title: 7 Things to Know About the Mars 2020 Perseverance Rover Mission, Paragraph: NASA's next rover to the Red Planet is slated to launch no earlier than July 30. These highlights will get you up to speed on the ambitious mission.\"}\n",
      "{\"Title: NASA Invites Students to Name Mars 2020 Rover, Paragraph: Through Nov. 1, K-12 students in the U.S. are encouraged to enter an essay contest to name NASA's next Mars rover.\"}\n",
      "{\"Title: NASA's Mars 2020 Heads Into the Test Chamber, Paragraph: In this time-lapse video taken at JPL, engineers move the Mars 2020 rover into a large vacuum chamber for testing in Mars-like environmental conditions.\"}\n",
      "{\"Title: Hear Audio From NASA's Perseverance As It Travels Through Deep Space, Paragraph: The first to be rigged with microphones, the agency's latest Mars rover picked up the subtle sounds of its own inner workings during interplanetary flight.\"}\n",
      "{\"Title: The Extraordinary Sample-Gathering System of NASA's Perseverance Mars Rover, Paragraph: Two astronauts collected Moon rocks on Apollo 11. It will take three robotic systems working together to gather up the first Mars rock samples for return to Earth.\"}\n",
      "{\"Title: Media Get a Close-Up of NASA's Mars 2020 Rover, Paragraph: The clean room at NASA's Jet Propulsion Laboratory was open to the media to see NASA's next Mars explorer before it leaves for Florida in preparation for a summertime launch.\"}\n",
      "{\"Title: NASA, ULA Launch Mars 2020 Perseverance Rover Mission to Red Planet, Paragraph: The agency's Mars 2020 mission is on its way. It will land at Jezero Crater in about seven months, on Feb. 18, 2021. \"}\n",
      "{\"Title: NASA's Mars Perseverance Rover Passes Flight Readiness Review, Paragraph: \\u200bThe agency's Mars 2020 mission has one more big prelaunch review – the Launch Readiness Review, on July 27.\"}\n",
      "{'Title: NASA Prepares for Moon and Mars With New Addition to Its Deep Space Network, Paragraph: Robotic spacecraft will be able to communicate with the dish using radio waves and lasers.'}\n",
      "{\"Title: Alabama High School Student Names NASA's Mars Helicopter, Paragraph: Vaneeza Rupani's essay was chosen as the name for the small spacecraft, which will mark NASA's first attempt at powered flight on another planet.\"}\n"
     ]
    }
   ],
   "source": [
    "titles_para = zip(titles, paragraphs)\n",
    "for x, y in titles_para:\n",
    "    print({f\"Title: {x.text}, Paragraph: {y.text}\"})"
   ]
  },
  {
   "cell_type": "code",
   "execution_count": 10,
   "id": "8a60a92e",
   "metadata": {},
   "outputs": [],
   "source": [
    "browser.quit()"
   ]
  },
  {
   "cell_type": "code",
   "execution_count": 11,
   "id": "bf92ad32",
   "metadata": {},
   "outputs": [],
   "source": [
    "space_image_url = \"https://spaceimages-mars.com/\""
   ]
  },
  {
   "cell_type": "code",
   "execution_count": 45,
   "id": "fd713670",
   "metadata": {},
   "outputs": [
    {
     "name": "stderr",
     "output_type": "stream",
     "text": [
      "\n",
      "\n",
      "====== WebDriver manager ======\n",
      "Current google-chrome version is 102.0.5005\n",
      "Get LATEST chromedriver version for 102.0.5005 google-chrome\n",
      "Driver [/Users/lindseyvalput/.wdm/drivers/chromedriver/mac64/102.0.5005.61/chromedriver] found in cache\n"
     ]
    }
   ],
   "source": [
    "executable_path = {'executable_path': ChromeDriverManager().install()}\n",
    "browser = Browser('chrome', **executable_path, headless=False)"
   ]
  },
  {
   "cell_type": "code",
   "execution_count": 46,
   "id": "30971515",
   "metadata": {},
   "outputs": [],
   "source": [
    "space_image_webpage = browser.visit(space_image_url)"
   ]
  },
  {
   "cell_type": "code",
   "execution_count": 47,
   "id": "3d6d7359",
   "metadata": {},
   "outputs": [],
   "source": [
    "html = browser.html\n",
    "soup = BeautifulSoup(html, 'html.parser')\n",
    "# print(soup.prettify())"
   ]
  },
  {
   "cell_type": "code",
   "execution_count": 48,
   "id": "ad80045a",
   "metadata": {},
   "outputs": [
    {
     "data": {
      "text/plain": [
       "<div class=\"floating_text_area\">\n",
       "<h2 class=\"brand_title\">FEATURED IMAGE</h2>\n",
       "<h1 class=\"media_feature_title\">Dusty Space Cloud</h1>\n",
       "<br/>\n",
       "<a class=\"showimg fancybox-thumbs\" href=\"image/featured/mars2.jpg\" target=\"_blank\"> <button class=\"btn btn-outline-light\"> FULL IMAGE</button></a>\n",
       "</div>"
      ]
     },
     "execution_count": 48,
     "metadata": {},
     "output_type": "execute_result"
    }
   ],
   "source": [
    "img_result = soup.find('div', class_='floating_text_area')\n",
    "\n",
    "img_result"
   ]
  },
  {
   "cell_type": "code",
   "execution_count": 49,
   "id": "7876caf8",
   "metadata": {},
   "outputs": [],
   "source": [
    "img_url = img_result.find('a')['href']\n",
    "img_complete_url = space_image_url + img_url\n",
    "mars_data['img_complete_url'] = img_complete_url"
   ]
  },
  {
   "cell_type": "code",
   "execution_count": 50,
   "id": "22061850",
   "metadata": {},
   "outputs": [],
   "source": [
    "browser.quit()"
   ]
  },
  {
   "cell_type": "code",
   "execution_count": 18,
   "id": "a0d2fed2",
   "metadata": {},
   "outputs": [],
   "source": [
    "mars_table_url = \"https://galaxyfacts-mars.com/\""
   ]
  },
  {
   "cell_type": "code",
   "execution_count": 19,
   "id": "6dc57363",
   "metadata": {},
   "outputs": [
    {
     "name": "stderr",
     "output_type": "stream",
     "text": [
      "\n",
      "\n",
      "====== WebDriver manager ======\n",
      "Current google-chrome version is 102.0.5005\n",
      "Get LATEST chromedriver version for 102.0.5005 google-chrome\n",
      "Driver [/Users/lindseyvalput/.wdm/drivers/chromedriver/mac64/102.0.5005.61/chromedriver] found in cache\n"
     ]
    }
   ],
   "source": [
    "executable_path = {'executable_path': ChromeDriverManager().install()}\n",
    "browser = Browser('chrome', **executable_path, headless=False)"
   ]
  },
  {
   "cell_type": "code",
   "execution_count": 20,
   "id": "0a6bbd3a",
   "metadata": {},
   "outputs": [],
   "source": [
    "mars_table_webpage = browser.visit(mars_table_url)"
   ]
  },
  {
   "cell_type": "code",
   "execution_count": 21,
   "id": "f9013761",
   "metadata": {},
   "outputs": [],
   "source": [
    "html = browser.html\n",
    "soup = BeautifulSoup(html, 'html.parser')\n",
    "# print(soup.prettify()"
   ]
  },
  {
   "cell_type": "code",
   "execution_count": 22,
   "id": "4197ff25",
   "metadata": {},
   "outputs": [],
   "source": [
    "table_html = soup.find('table', class_='table table-striped')\n",
    "# print(table_html)"
   ]
  },
  {
   "cell_type": "code",
   "execution_count": 23,
   "id": "91f732c5",
   "metadata": {},
   "outputs": [],
   "source": [
    "browser.quit()"
   ]
  },
  {
   "cell_type": "code",
   "execution_count": 24,
   "id": "a3ce0971",
   "metadata": {},
   "outputs": [],
   "source": [
    "table = pd.read_html(\"https://galaxyfacts-mars.com/\")"
   ]
  },
  {
   "cell_type": "code",
   "execution_count": 25,
   "id": "ea9e3e14",
   "metadata": {
    "scrolled": true
   },
   "outputs": [
    {
     "data": {
      "text/plain": [
       "[                         0                1                2\n",
       " 0  Mars - Earth Comparison             Mars            Earth\n",
       " 1                Diameter:         6,779 km        12,742 km\n",
       " 2                    Mass:  6.39 × 10^23 kg  5.97 × 10^24 kg\n",
       " 3                   Moons:                2                1\n",
       " 4       Distance from Sun:   227,943,824 km   149,598,262 km\n",
       " 5          Length of Year:   687 Earth days      365.24 days\n",
       " 6             Temperature:     -87 to -5 °C      -88 to 58°C,\n",
       "                       0                              1\n",
       " 0  Equatorial Diameter:                       6,792 km\n",
       " 1       Polar Diameter:                       6,752 km\n",
       " 2                 Mass:  6.39 × 10^23 kg (0.11 Earths)\n",
       " 3                Moons:          2 ( Phobos & Deimos )\n",
       " 4       Orbit Distance:       227,943,824 km (1.38 AU)\n",
       " 5         Orbit Period:           687 days (1.9 years)\n",
       " 6  Surface Temperature:                   -87 to -5 °C\n",
       " 7         First Record:              2nd millennium BC\n",
       " 8          Recorded By:           Egyptian astronomers]"
      ]
     },
     "execution_count": 25,
     "metadata": {},
     "output_type": "execute_result"
    }
   ],
   "source": [
    "table"
   ]
  },
  {
   "cell_type": "code",
   "execution_count": 26,
   "id": "86f3d437",
   "metadata": {},
   "outputs": [],
   "source": [
    "df = table[0]\n",
    "df.columns = [\"\", \"Mars\", \"Data\"]\n",
    "\n",
    "\n",
    "mars_table = df.set_index(\"Mars\")\n"
   ]
  },
  {
   "cell_type": "code",
   "execution_count": 27,
   "id": "73821c3b",
   "metadata": {},
   "outputs": [
    {
     "data": {
      "text/html": [
       "<div>\n",
       "<style scoped>\n",
       "    .dataframe tbody tr th:only-of-type {\n",
       "        vertical-align: middle;\n",
       "    }\n",
       "\n",
       "    .dataframe tbody tr th {\n",
       "        vertical-align: top;\n",
       "    }\n",
       "\n",
       "    .dataframe thead th {\n",
       "        text-align: right;\n",
       "    }\n",
       "</style>\n",
       "<table border=\"1\" class=\"dataframe\">\n",
       "  <thead>\n",
       "    <tr style=\"text-align: right;\">\n",
       "      <th></th>\n",
       "      <th></th>\n",
       "      <th>Data</th>\n",
       "    </tr>\n",
       "    <tr>\n",
       "      <th>Mars</th>\n",
       "      <th></th>\n",
       "      <th></th>\n",
       "    </tr>\n",
       "  </thead>\n",
       "  <tbody>\n",
       "    <tr>\n",
       "      <th>Mars</th>\n",
       "      <td>Mars - Earth Comparison</td>\n",
       "      <td>Earth</td>\n",
       "    </tr>\n",
       "    <tr>\n",
       "      <th>6,779 km</th>\n",
       "      <td>Diameter:</td>\n",
       "      <td>12,742 km</td>\n",
       "    </tr>\n",
       "    <tr>\n",
       "      <th>6.39 × 10^23 kg</th>\n",
       "      <td>Mass:</td>\n",
       "      <td>5.97 × 10^24 kg</td>\n",
       "    </tr>\n",
       "    <tr>\n",
       "      <th>2</th>\n",
       "      <td>Moons:</td>\n",
       "      <td>1</td>\n",
       "    </tr>\n",
       "    <tr>\n",
       "      <th>227,943,824 km</th>\n",
       "      <td>Distance from Sun:</td>\n",
       "      <td>149,598,262 km</td>\n",
       "    </tr>\n",
       "    <tr>\n",
       "      <th>687 Earth days</th>\n",
       "      <td>Length of Year:</td>\n",
       "      <td>365.24 days</td>\n",
       "    </tr>\n",
       "    <tr>\n",
       "      <th>-87 to -5 °C</th>\n",
       "      <td>Temperature:</td>\n",
       "      <td>-88 to 58°C</td>\n",
       "    </tr>\n",
       "  </tbody>\n",
       "</table>\n",
       "</div>"
      ],
      "text/plain": [
       "                                                     Data\n",
       "Mars                                                     \n",
       "Mars             Mars - Earth Comparison            Earth\n",
       "6,779 km                       Diameter:        12,742 km\n",
       "6.39 × 10^23 kg                    Mass:  5.97 × 10^24 kg\n",
       "2                                 Moons:                1\n",
       "227,943,824 km        Distance from Sun:   149,598,262 km\n",
       "687 Earth days           Length of Year:      365.24 days\n",
       "-87 to -5 °C                Temperature:      -88 to 58°C"
      ]
     },
     "execution_count": 27,
     "metadata": {},
     "output_type": "execute_result"
    }
   ],
   "source": [
    "mars_table"
   ]
  },
  {
   "cell_type": "code",
   "execution_count": 28,
   "id": "3c20f309",
   "metadata": {},
   "outputs": [],
   "source": [
    "mars_table_html = mars_table.to_html(classes='table table-stripped')\n",
    "mars_table_html = mars_table_html.replace('\\n', '')\n",
    "mars_data[\"mars_table\"] = mars_table_html"
   ]
  },
  {
   "cell_type": "code",
   "execution_count": 34,
   "id": "beb84e68",
   "metadata": {},
   "outputs": [
    {
     "name": "stderr",
     "output_type": "stream",
     "text": [
      "\n",
      "\n",
      "====== WebDriver manager ======\n",
      "Current google-chrome version is 102.0.5005\n",
      "Get LATEST chromedriver version for 102.0.5005 google-chrome\n",
      "Driver [/Users/lindseyvalput/.wdm/drivers/chromedriver/mac64/102.0.5005.61/chromedriver] found in cache\n"
     ]
    }
   ],
   "source": [
    "astrology_url = \"https://marshemispheres.com/\"\n",
    "executable_path = {'executable_path': ChromeDriverManager().install()}\n",
    "browser = Browser('chrome', **executable_path, headless=False)\n",
    "browser.visit(astrology_url)"
   ]
  },
  {
   "cell_type": "code",
   "execution_count": 35,
   "id": "32ce20bb",
   "metadata": {},
   "outputs": [],
   "source": [
    "html = browser.html\n",
    "soup = BeautifulSoup(html, 'html.parser')"
   ]
  },
  {
   "cell_type": "code",
   "execution_count": 36,
   "id": "a601f83b",
   "metadata": {},
   "outputs": [],
   "source": [
    "mars_hemis = []"
   ]
  },
  {
   "cell_type": "code",
   "execution_count": 37,
   "id": "fff836f5",
   "metadata": {},
   "outputs": [],
   "source": [
    "for i in range (4):\n",
    "    time.sleep(5)\n",
    "    images = browser.find_by_tag('h3')\n",
    "    images[i].click()\n",
    "    time.sleep(3)\n",
    "    html = browser.html\n",
    "    soup = BeautifulSoup(html, 'html.parser')\n",
    "    partial = soup.find(\"img\", class_=\"wide-image\")[\"src\"]\n",
    "    img_title = soup.find(\"h2\",class_=\"title\").text\n",
    "    img_url = astrology_url + partial\n",
    "    dictionary={\"title\":img_title,\"img_url\":img_url}\n",
    "    mars_hemis.append(dictionary)\n",
    "    browser.back()\n",
    "\n",
    "    mars_data['mars_hemis'] = mars_hemis\n",
    "    \n",
    "\n",
    "\n"
   ]
  },
  {
   "cell_type": "code",
   "execution_count": 38,
   "id": "c8c092de",
   "metadata": {},
   "outputs": [
    {
     "data": {
      "text/plain": [
       "[{'title': 'Cerberus Hemisphere Enhanced',\n",
       "  'img_url': 'https://marshemispheres.com/images/f5e372a36edfa389625da6d0cc25d905_cerberus_enhanced.tif_full.jpg'},\n",
       " {'title': 'Schiaparelli Hemisphere Enhanced',\n",
       "  'img_url': 'https://marshemispheres.com/images/3778f7b43bbbc89d6e3cfabb3613ba93_schiaparelli_enhanced.tif_full.jpg'},\n",
       " {'title': 'Syrtis Major Hemisphere Enhanced',\n",
       "  'img_url': 'https://marshemispheres.com/images/555e6403a6ddd7ba16ddb0e471cadcf7_syrtis_major_enhanced.tif_full.jpg'},\n",
       " {'title': 'Valles Marineris Hemisphere Enhanced',\n",
       "  'img_url': 'https://marshemispheres.com/images/b3c7c6c9138f57b4756be9b9c43e3a48_valles_marineris_enhanced.tif_full.jpg'}]"
      ]
     },
     "execution_count": 38,
     "metadata": {},
     "output_type": "execute_result"
    }
   ],
   "source": [
    "mars_data['mars_hemis']"
   ]
  },
  {
   "cell_type": "code",
   "execution_count": 39,
   "id": "ede7d04d",
   "metadata": {},
   "outputs": [
    {
     "data": {
      "text/plain": [
       "{'news_p': \"Did you know NASA's next Mars rover has a nearly identical sibling on Earth for testing? Even better, it's about to roll for the first time through a replica Martian landscape.\",\n",
       " 'news_title': \"NASA Readies Perseverance Mars Rover's Earthly Twin \",\n",
       " 'mars_table': '<table border=\"1\" class=\"dataframe table table-stripped\">  <thead>    <tr style=\"text-align: right;\">      <th></th>      <th></th>      <th>Data</th>    </tr>    <tr>      <th>Mars</th>      <th></th>      <th></th>    </tr>  </thead>  <tbody>    <tr>      <th>Mars</th>      <td>Mars - Earth Comparison</td>      <td>Earth</td>    </tr>    <tr>      <th>6,779 km</th>      <td>Diameter:</td>      <td>12,742 km</td>    </tr>    <tr>      <th>6.39 × 10^23 kg</th>      <td>Mass:</td>      <td>5.97 × 10^24 kg</td>    </tr>    <tr>      <th>2</th>      <td>Moons:</td>      <td>1</td>    </tr>    <tr>      <th>227,943,824 km</th>      <td>Distance from Sun:</td>      <td>149,598,262 km</td>    </tr>    <tr>      <th>687 Earth days</th>      <td>Length of Year:</td>      <td>365.24 days</td>    </tr>    <tr>      <th>-87 to -5 °C</th>      <td>Temperature:</td>      <td>-88 to 58°C</td>    </tr>  </tbody></table>',\n",
       " 'mars_hemis': [{'title': 'Cerberus Hemisphere Enhanced',\n",
       "   'img_url': 'https://marshemispheres.com/images/f5e372a36edfa389625da6d0cc25d905_cerberus_enhanced.tif_full.jpg'},\n",
       "  {'title': 'Schiaparelli Hemisphere Enhanced',\n",
       "   'img_url': 'https://marshemispheres.com/images/3778f7b43bbbc89d6e3cfabb3613ba93_schiaparelli_enhanced.tif_full.jpg'},\n",
       "  {'title': 'Syrtis Major Hemisphere Enhanced',\n",
       "   'img_url': 'https://marshemispheres.com/images/555e6403a6ddd7ba16ddb0e471cadcf7_syrtis_major_enhanced.tif_full.jpg'},\n",
       "  {'title': 'Valles Marineris Hemisphere Enhanced',\n",
       "   'img_url': 'https://marshemispheres.com/images/b3c7c6c9138f57b4756be9b9c43e3a48_valles_marineris_enhanced.tif_full.jpg'}]}"
      ]
     },
     "execution_count": 39,
     "metadata": {},
     "output_type": "execute_result"
    }
   ],
   "source": [
    "mars_data"
   ]
  },
  {
   "cell_type": "code",
   "execution_count": 40,
   "id": "1af1cf50",
   "metadata": {},
   "outputs": [],
   "source": [
    "browser.quit()"
   ]
  },
  {
   "cell_type": "code",
   "execution_count": null,
   "id": "3b317e16",
   "metadata": {},
   "outputs": [],
   "source": [
    "\n"
   ]
  },
  {
   "cell_type": "code",
   "execution_count": null,
   "id": "4d9d74dc",
   "metadata": {},
   "outputs": [],
   "source": []
  },
  {
   "cell_type": "code",
   "execution_count": null,
   "id": "09d31a6e",
   "metadata": {},
   "outputs": [],
   "source": [
    "# mars_data = {}\n",
    "# mars_data['news_title'] = news_title\n",
    "# mars_data['news_p'] = news_p\n",
    "# mars_data['img_complete_url'] = img_complete_url\n",
    "# mars_data['mars_table'] = mars_table\n",
    "# mars_data['links'] = links"
   ]
  },
  {
   "cell_type": "code",
   "execution_count": null,
   "id": "9cdc2991",
   "metadata": {},
   "outputs": [],
   "source": []
  },
  {
   "cell_type": "code",
   "execution_count": null,
   "id": "0e0027a8",
   "metadata": {},
   "outputs": [],
   "source": []
  }
 ],
 "metadata": {
  "kernelspec": {
   "display_name": "Python [conda env:PythonData38] *",
   "language": "python",
   "name": "conda-env-PythonData38-py"
  },
  "language_info": {
   "codemirror_mode": {
    "name": "ipython",
    "version": 3
   },
   "file_extension": ".py",
   "mimetype": "text/x-python",
   "name": "python",
   "nbconvert_exporter": "python",
   "pygments_lexer": "ipython3",
   "version": "3.8.12"
  }
 },
 "nbformat": 4,
 "nbformat_minor": 5
}
