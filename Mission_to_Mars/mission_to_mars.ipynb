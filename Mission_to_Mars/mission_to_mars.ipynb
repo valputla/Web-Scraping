{
 "cells": [
  {
   "cell_type": "code",
   "execution_count": 1,
   "id": "1c5313ef",
   "metadata": {},
   "outputs": [],
   "source": [
    "from splinter import Browser\n",
    "from bs4 import BeautifulSoup\n",
    "from webdriver_manager.chrome import ChromeDriverManager\n",
    "import requests\n",
    "import pymongo\n",
    "import pandas as pd"
   ]
  },
  {
   "cell_type": "code",
   "execution_count": 2,
   "id": "5a369bb1",
   "metadata": {},
   "outputs": [],
   "source": [
    "url = \"https://redplanetscience.com/\""
   ]
  },
  {
   "cell_type": "code",
   "execution_count": 3,
   "id": "072e9c9d",
   "metadata": {},
   "outputs": [
    {
     "name": "stderr",
     "output_type": "stream",
     "text": [
      "\n",
      "\n",
      "====== WebDriver manager ======\n",
      "Current google-chrome version is 102.0.5005\n",
      "Get LATEST chromedriver version for 102.0.5005 google-chrome\n",
      "Driver [/Users/lindseyvalput/.wdm/drivers/chromedriver/mac64/102.0.5005.61/chromedriver] found in cache\n"
     ]
    }
   ],
   "source": [
    "executable_path = {'executable_path': ChromeDriverManager().install()}\n",
    "browser = Browser('chrome', **executable_path, headless=False)"
   ]
  },
  {
   "cell_type": "code",
   "execution_count": 4,
   "id": "6d7aeb5e",
   "metadata": {},
   "outputs": [],
   "source": [
    "mars_webpage = browser.visit(url)"
   ]
  },
  {
   "cell_type": "code",
   "execution_count": 5,
   "id": "93e53f57",
   "metadata": {},
   "outputs": [],
   "source": [
    "html = browser.html\n",
    "soup = BeautifulSoup(html, 'html.parser')\n",
    "# print(soup.prettify())"
   ]
  },
  {
   "cell_type": "code",
   "execution_count": 6,
   "id": "81f5b44d",
   "metadata": {},
   "outputs": [],
   "source": [
    "news_title = soup.find('div', class_='content_title').text\n",
    "news_p = soup.find('div', class_='article_teaser_body').text"
   ]
  },
  {
   "cell_type": "code",
   "execution_count": 7,
   "id": "ba14e4bb",
   "metadata": {},
   "outputs": [],
   "source": [
    "#Alternative solution - loop through titles and paragraphs to see all. \n",
    "titles = soup.find_all('div', class_='content_title')\n",
    "paragraphs = soup.find_all('div', class_='article_teaser_body')"
   ]
  },
  {
   "cell_type": "code",
   "execution_count": 8,
   "id": "3f863378",
   "metadata": {
    "scrolled": true
   },
   "outputs": [
    {
     "name": "stdout",
     "output_type": "stream",
     "text": [
      "['Naming a NASA Mars Rover Can Change Your Life']\n",
      "[\"NASA's Mars Rover Drivers Need Your Help\"]\n",
      "[\"NASA's Curiosity Takes Selfie With 'Mary Anning' on the Red Planet\"]\n",
      "[\"Virginia Middle School Student Earns Honor of Naming NASA's Next Mars Rover\"]\n",
      "['7 Things to Know About the Mars 2020 Perseverance Rover Mission']\n",
      "[\"NASA InSight's 'Mole' Is Out of Sight\"]\n",
      "[\"Alabama High School Student Names NASA's Mars Helicopter\"]\n",
      "[\"NASA's Perseverance Rover Is Midway to Mars \"]\n",
      "['New Selfie Shows Curiosity, the Mars Chemist']\n",
      "[\"How NASA's Perseverance Mars Team Adjusted to Work in the Time of Coronavirus \"]\n",
      "[\"Media Get a Close-Up of NASA's Mars 2020 Rover\"]\n",
      "['NASA Updates Mars 2020 Mission Environmental Review']\n",
      "['Independent Review Indicates NASA Prepared for Mars Sample Return Campaign']\n",
      "[\"HiRISE Views NASA's InSight and Curiosity on Mars\"]\n",
      "[\"NASA's Mars Helicopter Attached to Mars 2020 Rover \"]\n"
     ]
    }
   ],
   "source": [
    "for news_title in titles:\n",
    "    print([news_title.text])"
   ]
  },
  {
   "cell_type": "code",
   "execution_count": 9,
   "id": "75b8f9bf",
   "metadata": {},
   "outputs": [
    {
     "name": "stdout",
     "output_type": "stream",
     "text": [
      "['Want to name the robotic scientist NASA is sending to Mars in 2020? The student who named Curiosity — the rover currently exploring Mars — will tell you this is an opportunity worth taking.']\n",
      "['Using an online tool to label Martian terrain types, you can train an artificial intelligence algorithm that could improve the way engineers guide the Curiosity rover.']\n",
      "['The Mars rover has drilled three samples of rock in this clay-enriched region since arriving in July.']\n",
      "['NASA chose a seventh-grader from Virginia as winner of the agency\\'s \"Name the Rover\" essay contest. Alexander Mather\\'s entry for \"Perseverance\" was voted tops among 28,000 entries. ']\n",
      "[\"NASA's next rover to the Red Planet is slated to launch no earlier than July 30. These highlights will get you up to speed on the ambitious mission.\"]\n",
      "[\"Now that the heat probe is just below the Martian surface, InSight's arm will scoop some additional soil on top to help it keep digging so it can take Mars' temperature.\"]\n",
      "[\"Vaneeza Rupani's essay was chosen as the name for the small spacecraft, which will mark NASA's first attempt at powered flight on another planet.\"]\n",
      "[\"Sometimes half measures can be a good thing – especially on a journey this long. The agency's latest rover only has about 146 million miles left to reach its destination.\"]\n",
      "['The NASA rover performed a special chemistry experiment at the location captured in its newest self-portrait.']\n",
      "['Like much of the rest of the world, the Mars rover team is pushing forward with its mission-critical work while putting the health and safety of their colleagues and community first.']\n",
      "[\"The clean room at NASA's Jet Propulsion Laboratory was open to the media to see NASA's next Mars explorer before it leaves for Florida in preparation for a summertime launch.\"]\n",
      "['NASA and the Department of Energy have completed a more detailed risk analysis for the Mars 2020 rover launch from Florida.']\n",
      "['NASA released an independent review report Tuesday indicating the agency is well positioned for its Mars Sample Return campaign to bring pristine samples from Mars to Earth for scientific study.']\n",
      "['New images taken from space offer the clearest orbital glimpse yet of InSight as well as a view of Curiosity rolling along.']\n",
      "['The helicopter will be first aircraft to perform flight tests on another planet.']\n"
     ]
    }
   ],
   "source": [
    "for news_p in paragraphs:\n",
    "   print([news_p.text])"
   ]
  },
  {
   "cell_type": "code",
   "execution_count": 10,
   "id": "4daac9ac",
   "metadata": {},
   "outputs": [
    {
     "name": "stdout",
     "output_type": "stream",
     "text": [
      "{'Title: Naming a NASA Mars Rover Can Change Your Life, Paragraph: Want to name the robotic scientist NASA is sending to Mars in 2020? The student who named Curiosity — the rover currently exploring Mars — will tell you this is an opportunity worth taking.'}\n",
      "{\"Title: NASA's Mars Rover Drivers Need Your Help, Paragraph: Using an online tool to label Martian terrain types, you can train an artificial intelligence algorithm that could improve the way engineers guide the Curiosity rover.\"}\n",
      "{\"Title: NASA's Curiosity Takes Selfie With 'Mary Anning' on the Red Planet, Paragraph: The Mars rover has drilled three samples of rock in this clay-enriched region since arriving in July.\"}\n",
      "{'Title: Virginia Middle School Student Earns Honor of Naming NASA\\'s Next Mars Rover, Paragraph: NASA chose a seventh-grader from Virginia as winner of the agency\\'s \"Name the Rover\" essay contest. Alexander Mather\\'s entry for \"Perseverance\" was voted tops among 28,000 entries. '}\n",
      "{\"Title: 7 Things to Know About the Mars 2020 Perseverance Rover Mission, Paragraph: NASA's next rover to the Red Planet is slated to launch no earlier than July 30. These highlights will get you up to speed on the ambitious mission.\"}\n",
      "{\"Title: NASA InSight's 'Mole' Is Out of Sight, Paragraph: Now that the heat probe is just below the Martian surface, InSight's arm will scoop some additional soil on top to help it keep digging so it can take Mars' temperature.\"}\n",
      "{\"Title: Alabama High School Student Names NASA's Mars Helicopter, Paragraph: Vaneeza Rupani's essay was chosen as the name for the small spacecraft, which will mark NASA's first attempt at powered flight on another planet.\"}\n",
      "{\"Title: NASA's Perseverance Rover Is Midway to Mars , Paragraph: Sometimes half measures can be a good thing – especially on a journey this long. The agency's latest rover only has about 146 million miles left to reach its destination.\"}\n",
      "{'Title: New Selfie Shows Curiosity, the Mars Chemist, Paragraph: The NASA rover performed a special chemistry experiment at the location captured in its newest self-portrait.'}\n",
      "{\"Title: How NASA's Perseverance Mars Team Adjusted to Work in the Time of Coronavirus , Paragraph: Like much of the rest of the world, the Mars rover team is pushing forward with its mission-critical work while putting the health and safety of their colleagues and community first.\"}\n",
      "{\"Title: Media Get a Close-Up of NASA's Mars 2020 Rover, Paragraph: The clean room at NASA's Jet Propulsion Laboratory was open to the media to see NASA's next Mars explorer before it leaves for Florida in preparation for a summertime launch.\"}\n",
      "{'Title: NASA Updates Mars 2020 Mission Environmental Review, Paragraph: NASA and the Department of Energy have completed a more detailed risk analysis for the Mars 2020 rover launch from Florida.'}\n",
      "{'Title: Independent Review Indicates NASA Prepared for Mars Sample Return Campaign, Paragraph: NASA released an independent review report Tuesday indicating the agency is well positioned for its Mars Sample Return campaign to bring pristine samples from Mars to Earth for scientific study.'}\n",
      "{\"Title: HiRISE Views NASA's InSight and Curiosity on Mars, Paragraph: New images taken from space offer the clearest orbital glimpse yet of InSight as well as a view of Curiosity rolling along.\"}\n",
      "{\"Title: NASA's Mars Helicopter Attached to Mars 2020 Rover , Paragraph: The helicopter will be first aircraft to perform flight tests on another planet.\"}\n"
     ]
    }
   ],
   "source": [
    "titles_para = zip(titles, paragraphs)\n",
    "for x, y in titles_para:\n",
    "    print({f\"Title: {x.text}, Paragraph: {y.text}\"})"
   ]
  },
  {
   "cell_type": "code",
   "execution_count": 11,
   "id": "8a60a92e",
   "metadata": {},
   "outputs": [],
   "source": [
    "browser.quit()"
   ]
  },
  {
   "cell_type": "code",
   "execution_count": 12,
   "id": "bf92ad32",
   "metadata": {},
   "outputs": [],
   "source": [
    "space_image_url = \"https://spaceimages-mars.com/\""
   ]
  },
  {
   "cell_type": "code",
   "execution_count": 13,
   "id": "fd713670",
   "metadata": {},
   "outputs": [
    {
     "name": "stderr",
     "output_type": "stream",
     "text": [
      "\n",
      "\n",
      "====== WebDriver manager ======\n",
      "Current google-chrome version is 102.0.5005\n",
      "Get LATEST chromedriver version for 102.0.5005 google-chrome\n",
      "Driver [/Users/lindseyvalput/.wdm/drivers/chromedriver/mac64/102.0.5005.61/chromedriver] found in cache\n"
     ]
    }
   ],
   "source": [
    "executable_path = {'executable_path': ChromeDriverManager().install()}\n",
    "browser = Browser('chrome', **executable_path, headless=False)"
   ]
  },
  {
   "cell_type": "code",
   "execution_count": 14,
   "id": "30971515",
   "metadata": {},
   "outputs": [],
   "source": [
    "space_image_webpage = browser.visit(space_image_url)"
   ]
  },
  {
   "cell_type": "code",
   "execution_count": 15,
   "id": "3d6d7359",
   "metadata": {},
   "outputs": [],
   "source": [
    "html = browser.html\n",
    "soup = BeautifulSoup(html, 'html.parser')\n",
    "# print(soup.prettify())"
   ]
  },
  {
   "cell_type": "code",
   "execution_count": 16,
   "id": "ad80045a",
   "metadata": {},
   "outputs": [
    {
     "data": {
      "text/plain": [
       "<div class=\"floating_text_area\">\n",
       "<h2 class=\"brand_title\">FEATURED IMAGE</h2>\n",
       "<h1 class=\"media_feature_title\">Dusty Space Cloud</h1>\n",
       "<br/>\n",
       "<a class=\"showimg fancybox-thumbs\" href=\"image/featured/mars1.jpg\" target=\"_blank\"> <button class=\"btn btn-outline-light\"> FULL IMAGE</button></a>\n",
       "</div>"
      ]
     },
     "execution_count": 16,
     "metadata": {},
     "output_type": "execute_result"
    }
   ],
   "source": [
    "img_result = soup.find('div', class_='floating_text_area')\n",
    "\n",
    "img_result"
   ]
  },
  {
   "cell_type": "code",
   "execution_count": 17,
   "id": "7876caf8",
   "metadata": {},
   "outputs": [
    {
     "name": "stdout",
     "output_type": "stream",
     "text": [
      "['https://spaceimages-mars.com/image/featured/mars1.jpg']\n"
     ]
    }
   ],
   "source": [
    "img_url = img_result.find('a')['href']\n",
    "img_complete_url = [space_image_url + img_url]\n",
    "print(img_complete_url)"
   ]
  },
  {
   "cell_type": "code",
   "execution_count": 18,
   "id": "22061850",
   "metadata": {},
   "outputs": [],
   "source": [
    "browser.quit()"
   ]
  },
  {
   "cell_type": "code",
   "execution_count": 19,
   "id": "a0d2fed2",
   "metadata": {},
   "outputs": [],
   "source": [
    "mars_table_url = \"https://galaxyfacts-mars.com/\""
   ]
  },
  {
   "cell_type": "code",
   "execution_count": 20,
   "id": "6dc57363",
   "metadata": {},
   "outputs": [
    {
     "name": "stderr",
     "output_type": "stream",
     "text": [
      "\n",
      "\n",
      "====== WebDriver manager ======\n",
      "Current google-chrome version is 102.0.5005\n",
      "Get LATEST chromedriver version for 102.0.5005 google-chrome\n",
      "Driver [/Users/lindseyvalput/.wdm/drivers/chromedriver/mac64/102.0.5005.61/chromedriver] found in cache\n"
     ]
    }
   ],
   "source": [
    "executable_path = {'executable_path': ChromeDriverManager().install()}\n",
    "browser = Browser('chrome', **executable_path, headless=False)"
   ]
  },
  {
   "cell_type": "code",
   "execution_count": 21,
   "id": "0a6bbd3a",
   "metadata": {},
   "outputs": [],
   "source": [
    "mars_table_webpage = browser.visit(mars_table_url)"
   ]
  },
  {
   "cell_type": "code",
   "execution_count": 22,
   "id": "f9013761",
   "metadata": {},
   "outputs": [],
   "source": [
    "html = browser.html\n",
    "soup = BeautifulSoup(html, 'html.parser')\n",
    "# print(soup.prettify())"
   ]
  },
  {
   "cell_type": "code",
   "execution_count": 80,
   "id": "4197ff25",
   "metadata": {},
   "outputs": [],
   "source": [
    "table_html = soup.find('table', class_='table table-striped')\n",
    "# print(table_html)"
   ]
  },
  {
   "cell_type": "code",
   "execution_count": 25,
   "id": "91f732c5",
   "metadata": {},
   "outputs": [],
   "source": [
    "browser.quit()"
   ]
  },
  {
   "cell_type": "code",
   "execution_count": 26,
   "id": "a3ce0971",
   "metadata": {},
   "outputs": [],
   "source": [
    "table = pd.read_html(\"https://galaxyfacts-mars.com/\")"
   ]
  },
  {
   "cell_type": "code",
   "execution_count": 56,
   "id": "ea9e3e14",
   "metadata": {
    "scrolled": true
   },
   "outputs": [
    {
     "data": {
      "text/plain": [
       "[                         0                1                2\n",
       " 0  Mars - Earth Comparison             Mars            Earth\n",
       " 1                Diameter:         6,779 km        12,742 km\n",
       " 2                    Mass:  6.39 × 10^23 kg  5.97 × 10^24 kg\n",
       " 3                   Moons:                2                1\n",
       " 4       Distance from Sun:   227,943,824 km   149,598,262 km\n",
       " 5          Length of Year:   687 Earth days      365.24 days\n",
       " 6             Temperature:     -87 to -5 °C      -88 to 58°C,\n",
       "                       0                              1\n",
       " 0  Equatorial Diameter:                       6,792 km\n",
       " 1       Polar Diameter:                       6,752 km\n",
       " 2                 Mass:  6.39 × 10^23 kg (0.11 Earths)\n",
       " 3                Moons:          2 ( Phobos & Deimos )\n",
       " 4       Orbit Distance:       227,943,824 km (1.38 AU)\n",
       " 5         Orbit Period:           687 days (1.9 years)\n",
       " 6  Surface Temperature:                   -87 to -5 °C\n",
       " 7         First Record:              2nd millennium BC\n",
       " 8          Recorded By:           Egyptian astronomers]"
      ]
     },
     "execution_count": 56,
     "metadata": {},
     "output_type": "execute_result"
    }
   ],
   "source": [
    "table"
   ]
  },
  {
   "cell_type": "code",
   "execution_count": 69,
   "id": "86f3d437",
   "metadata": {},
   "outputs": [
    {
     "data": {
      "text/html": [
       "<div>\n",
       "<style scoped>\n",
       "    .dataframe tbody tr th:only-of-type {\n",
       "        vertical-align: middle;\n",
       "    }\n",
       "\n",
       "    .dataframe tbody tr th {\n",
       "        vertical-align: top;\n",
       "    }\n",
       "\n",
       "    .dataframe thead th {\n",
       "        text-align: right;\n",
       "    }\n",
       "</style>\n",
       "<table border=\"1\" class=\"dataframe\">\n",
       "  <thead>\n",
       "    <tr style=\"text-align: right;\">\n",
       "      <th></th>\n",
       "      <th>Mars</th>\n",
       "      <th>Earth</th>\n",
       "    </tr>\n",
       "    <tr>\n",
       "      <th>Mars-Earth Comparison</th>\n",
       "      <th></th>\n",
       "      <th></th>\n",
       "    </tr>\n",
       "  </thead>\n",
       "  <tbody>\n",
       "    <tr>\n",
       "      <th>Mars - Earth Comparison</th>\n",
       "      <td>Mars</td>\n",
       "      <td>Earth</td>\n",
       "    </tr>\n",
       "    <tr>\n",
       "      <th>Diameter:</th>\n",
       "      <td>6,779 km</td>\n",
       "      <td>12,742 km</td>\n",
       "    </tr>\n",
       "    <tr>\n",
       "      <th>Mass:</th>\n",
       "      <td>6.39 × 10^23 kg</td>\n",
       "      <td>5.97 × 10^24 kg</td>\n",
       "    </tr>\n",
       "    <tr>\n",
       "      <th>Moons:</th>\n",
       "      <td>2</td>\n",
       "      <td>1</td>\n",
       "    </tr>\n",
       "    <tr>\n",
       "      <th>Distance from Sun:</th>\n",
       "      <td>227,943,824 km</td>\n",
       "      <td>149,598,262 km</td>\n",
       "    </tr>\n",
       "    <tr>\n",
       "      <th>Length of Year:</th>\n",
       "      <td>687 Earth days</td>\n",
       "      <td>365.24 days</td>\n",
       "    </tr>\n",
       "    <tr>\n",
       "      <th>Temperature:</th>\n",
       "      <td>-87 to -5 °C</td>\n",
       "      <td>-88 to 58°C</td>\n",
       "    </tr>\n",
       "  </tbody>\n",
       "</table>\n",
       "</div>"
      ],
      "text/plain": [
       "                                    Mars            Earth\n",
       "Mars-Earth Comparison                                    \n",
       "Mars - Earth Comparison             Mars            Earth\n",
       "Diameter:                       6,779 km        12,742 km\n",
       "Mass:                    6.39 × 10^23 kg  5.97 × 10^24 kg\n",
       "Moons:                                 2                1\n",
       "Distance from Sun:        227,943,824 km   149,598,262 km\n",
       "Length of Year:           687 Earth days      365.24 days\n",
       "Temperature:                -87 to -5 °C      -88 to 58°C"
      ]
     },
     "execution_count": 69,
     "metadata": {},
     "output_type": "execute_result"
    }
   ],
   "source": [
    "df = table[0]\n",
    "mars_table = df.rename(columns={0: 'Mars-Earth Comparison', 1:'Mars', 2: 'Earth'})\n",
    "mars_table.set_index('Mars-Earth Comparison')"
   ]
  },
  {
   "cell_type": "code",
   "execution_count": 70,
   "id": "3c20f309",
   "metadata": {},
   "outputs": [],
   "source": [
    "mars_table = mars_table.to_html(classes='table table-stripped', justify='left', border=1)\n",
    "mars_table = mars_table.replace('\\n', '')"
   ]
  },
  {
   "cell_type": "code",
   "execution_count": 71,
   "id": "beb84e68",
   "metadata": {},
   "outputs": [
    {
     "name": "stderr",
     "output_type": "stream",
     "text": [
      "\n",
      "\n",
      "====== WebDriver manager ======\n",
      "Current google-chrome version is 102.0.5005\n",
      "Get LATEST chromedriver version for 102.0.5005 google-chrome\n",
      "Driver [/Users/lindseyvalput/.wdm/drivers/chromedriver/mac64/102.0.5005.61/chromedriver] found in cache\n"
     ]
    }
   ],
   "source": [
    "astrology_url = \"https://marshemispheres.com/\"\n",
    "executable_path = {'executable_path': ChromeDriverManager().install()}\n",
    "browser = Browser('chrome', **executable_path, headless=False)\n",
    "browser.visit(astrology_url)"
   ]
  },
  {
   "cell_type": "code",
   "execution_count": 72,
   "id": "32ce20bb",
   "metadata": {},
   "outputs": [],
   "source": [
    "html = browser.html\n",
    "soup = BeautifulSoup(html, 'lxml')"
   ]
  },
  {
   "cell_type": "code",
   "execution_count": 73,
   "id": "ede7d04d",
   "metadata": {},
   "outputs": [],
   "source": [
    "img_link_html = soup.find('div', class_='collapsible results')\n",
    "anchor = img_link_html.find_all('h3')"
   ]
  },
  {
   "cell_type": "code",
   "execution_count": 74,
   "id": "1af1cf50",
   "metadata": {},
   "outputs": [],
   "source": [
    "titles = []\n",
    "links = []"
   ]
  },
  {
   "cell_type": "code",
   "execution_count": 75,
   "id": "6a223e2d",
   "metadata": {},
   "outputs": [],
   "source": [
    "for h3 in range(0, len(anchor)):\n",
    "    descriptions = anchor[h3].text\n",
    "    titles.append(descriptions)\n",
    "# print(titles)"
   ]
  },
  {
   "cell_type": "code",
   "execution_count": 76,
   "id": "3b317e16",
   "metadata": {},
   "outputs": [
    {
     "name": "stdout",
     "output_type": "stream",
     "text": [
      "[{'title': 'Cerberus Hemisphere Enhanced', 'img_url': 'image/featured/mars1.jpg'}, {'title': 'Schiaparelli Hemisphere Enhanced', 'img_url': 'image/featured/mars1.jpg'}, {'title': 'Syrtis Major Hemisphere Enhanced', 'img_url': 'image/featured/mars1.jpg'}, {'title': 'Valles Marineris Hemisphere Enhanced', 'img_url': 'image/featured/mars1.jpg'}]\n"
     ]
    }
   ],
   "source": [
    "for title in titles:\n",
    "    browser.links.find_by_partial_text(title).click()\n",
    "    browser.links.find_by_text('Open').click()\n",
    "    \n",
    "    html = browser.html\n",
    "    soup = BeautifulSoup(html, 'lxml')\n",
    "\n",
    "    image_link = astrology_url + soup.find('img', class_=\"wide-image\")['src']\n",
    "    title_img_dict = {}\n",
    "    title_img_dict['title'] = title\n",
    "    title_img_dict['img_url'] = img_url\n",
    "    \n",
    "    links.append(title_img_dict)\n",
    "    browser.links.find_by_text('Close').click()\n",
    "    browser.links.find_by_partial_text('Back').click()\n",
    "\n",
    "    \n",
    "print(links)"
   ]
  },
  {
   "cell_type": "code",
   "execution_count": 77,
   "id": "4d9d74dc",
   "metadata": {},
   "outputs": [],
   "source": [
    "browser.quit()"
   ]
  },
  {
   "cell_type": "code",
   "execution_count": 78,
   "id": "09d31a6e",
   "metadata": {},
   "outputs": [],
   "source": [
    "mars_data = {}\n",
    "mars_data['news_title'] = news_title\n",
    "mars_data['news_p'] = news_p\n",
    "mars_data['img_complete_url'] = img_complete_url\n",
    "mars_data['mars_table'] = mars_table\n",
    "mars_data['links'] = links"
   ]
  },
  {
   "cell_type": "code",
   "execution_count": 79,
   "id": "9cdc2991",
   "metadata": {},
   "outputs": [
    {
     "data": {
      "text/plain": [
       "{'news_title': <div class=\"content_title\">NASA's Mars Helicopter Attached to Mars 2020 Rover </div>,\n",
       " 'news_p': <div class=\"article_teaser_body\">The helicopter will be first aircraft to perform flight tests on another planet.</div>,\n",
       " 'img_complete_url': ['https://spaceimages-mars.com/image/featured/mars1.jpg'],\n",
       " 'mars_table': '<table border=\"1\" class=\"dataframe table table-stripped\">  <thead>    <tr style=\"text-align: left;\">      <th></th>      <th>Mars-Earth Comparison</th>      <th>Mars</th>      <th>Earth</th>    </tr>  </thead>  <tbody>    <tr>      <th>0</th>      <td>Mars - Earth Comparison</td>      <td>Mars</td>      <td>Earth</td>    </tr>    <tr>      <th>1</th>      <td>Diameter:</td>      <td>6,779 km</td>      <td>12,742 km</td>    </tr>    <tr>      <th>2</th>      <td>Mass:</td>      <td>6.39 × 10^23 kg</td>      <td>5.97 × 10^24 kg</td>    </tr>    <tr>      <th>3</th>      <td>Moons:</td>      <td>2</td>      <td>1</td>    </tr>    <tr>      <th>4</th>      <td>Distance from Sun:</td>      <td>227,943,824 km</td>      <td>149,598,262 km</td>    </tr>    <tr>      <th>5</th>      <td>Length of Year:</td>      <td>687 Earth days</td>      <td>365.24 days</td>    </tr>    <tr>      <th>6</th>      <td>Temperature:</td>      <td>-87 to -5 °C</td>      <td>-88 to 58°C</td>    </tr>  </tbody></table>',\n",
       " 'links': [{'title': 'Cerberus Hemisphere Enhanced',\n",
       "   'img_url': 'image/featured/mars1.jpg'},\n",
       "  {'title': 'Schiaparelli Hemisphere Enhanced',\n",
       "   'img_url': 'image/featured/mars1.jpg'},\n",
       "  {'title': 'Syrtis Major Hemisphere Enhanced',\n",
       "   'img_url': 'image/featured/mars1.jpg'},\n",
       "  {'title': 'Valles Marineris Hemisphere Enhanced',\n",
       "   'img_url': 'image/featured/mars1.jpg'}]}"
      ]
     },
     "execution_count": 79,
     "metadata": {},
     "output_type": "execute_result"
    }
   ],
   "source": [
    "mars_data"
   ]
  },
  {
   "cell_type": "code",
   "execution_count": null,
   "id": "0e0027a8",
   "metadata": {},
   "outputs": [],
   "source": []
  }
 ],
 "metadata": {
  "kernelspec": {
   "display_name": "Python [conda env:PythonData38] *",
   "language": "python",
   "name": "conda-env-PythonData38-py"
  },
  "language_info": {
   "codemirror_mode": {
    "name": "ipython",
    "version": 3
   },
   "file_extension": ".py",
   "mimetype": "text/x-python",
   "name": "python",
   "nbconvert_exporter": "python",
   "pygments_lexer": "ipython3",
   "version": "3.8.12"
  }
 },
 "nbformat": 4,
 "nbformat_minor": 5
}
